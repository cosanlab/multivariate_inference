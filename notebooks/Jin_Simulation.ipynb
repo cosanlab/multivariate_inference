{
 "cells": [
  {
   "cell_type": "code",
   "execution_count": 6,
   "metadata": {
    "ExecuteTime": {
     "end_time": "2018-09-07T20:41:24.171619",
     "start_time": "2018-09-07T20:41:23.455973Z"
    }
   },
   "outputs": [
    {
     "name": "stderr",
     "output_type": "stream",
     "text": [
      "\n",
      "Bad key \"ckend\" on line 1 in\n",
      "/Users/jinhyuncheong/.matplotlib/matplotlibrc.\n",
      "You probably need to get an updated matplotlibrc file from\n",
      "http://github.com/matplotlib/matplotlib/blob/master/matplotlibrc.template\n",
      "or from the matplotlib source distribution\n"
     ]
    }
   ],
   "source": [
    "import numpy as np\n",
    "import scipy.stats as stats\n",
    "import pandas as pd\n",
    "%matplotlib inline\n",
    "import matplotlib.pyplot as plt\n",
    "from joblib import Parallel, delayed\n",
    "\n",
    "def parse_triangle(df, condition='upper'):\n",
    "    '''\n",
    "    This function grabs the upper triangle of a correlation matrix\n",
    "    by masking out the bottom triangle (tril) and returns the values. \n",
    "    \n",
    "    df: pandas or numpy correlation matrix\n",
    "    condition: 'upper': grabs the upper triangle\n",
    "               'pairs': grabs pair of subjects, skiiping each diagonal\n",
    "               'nonpairs': grabs nonpairs, upper - pairs \n",
    "    '''\n",
    "    try:\n",
    "        assert(type(df)==np.ndarray)\n",
    "    except:\n",
    "        if type(df)==pd.DataFrame:\n",
    "            df = df.as_matrix()\n",
    "        else:\n",
    "            raise TypeError('Must be np.ndarray or pd.DataFrame')\n",
    "    if condition =='upper':\n",
    "        mask = np.triu_indices(df.shape[0], k=1)\n",
    "        return df[mask] \n",
    "    else:\n",
    "        noDyads = int(df.shape[0]/2)\n",
    "        if condition =='pairs':\n",
    "            return np.diag(df,k=1)[range(0,noDyads*2,2)]\n",
    "        elif condition =='nonpairs':\n",
    "            mask = np.triu(np.ones(df.shape),k=1).astype(np.bool)\n",
    "            ix, iy = np.arange(0,noDyads*2,2), np.arange(1,noDyads*2,2)\n",
    "            for i in np.arange(0,len(ix)):\n",
    "                mask[ix[i],iy[i]] = False\n",
    "            return df[mask]\n",
    "        else:\n",
    "            raise ValueError('Condition,'+ str(condition) +' not recognized')"
   ]
  },
  {
   "cell_type": "code",
   "execution_count": 78,
   "metadata": {
    "ExecuteTime": {
     "end_time": "2018-08-21T19:43:22.572667",
     "start_time": "2018-08-21T19:43:19.116178Z"
    }
   },
   "outputs": [
    {
     "name": "stdout",
     "output_type": "stream",
     "text": [
      "FPR of mean difference:  0.0465\n"
     ]
    }
   ],
   "source": [
    "n = 1000 \n",
    "u = 0\n",
    "v = .1\n",
    "\n",
    "n_sim = 10000\n",
    "m_ps = np.empty(n_sim)\n",
    "for i in range(n_sim):\n",
    "    # Create two normal distributions with size n, mean u, variance v     \n",
    "    x = np.random.normal(loc = u, scale = v, size = n)\n",
    "    y = np.random.normal(loc = u, scale = v, size = n)\n",
    "    # Mean diff of two vectors\n",
    "    (_,p) = stats.ttest_ind(x,y)\n",
    "    m_ps[i] = p\n",
    "# Print FPR\n",
    "fpr = np.sum(np.array(m_ps)<.05) / n_sim\n",
    "print('FPR of mean difference: ', fpr)"
   ]
  },
  {
   "cell_type": "code",
   "execution_count": 145,
   "metadata": {
    "ExecuteTime": {
     "end_time": "2018-08-21T19:59:58.496689",
     "start_time": "2018-08-21T19:59:58.453246Z"
    }
   },
   "outputs": [
    {
     "name": "stdout",
     "output_type": "stream",
     "text": [
      "Correlation matrix is not positive semi-definite. Solved for new correlation matrix.\n"
     ]
    }
   ],
   "source": [
    "n = 10\n",
    "corrs = np.random.normal(loc=0,scale=1,size=int(n*(n-1)/2))\n",
    "\n",
    "r1 = pd.DataFrame(easy_multivariate_normal(50,n,corrs=corrs)).corr()\n",
    "v_r1 = parse_triangle(r1) # vectorized r1\n",
    "# create matrix that is "
   ]
  },
  {
   "cell_type": "code",
   "execution_count": null,
   "metadata": {
    "ExecuteTime": {
     "end_time": "2018-08-21T20:18:53.271079",
     "start_time": "2018-08-21T20:13:15.508388Z"
    },
    "code_folding": [],
    "scrolled": true
   },
   "outputs": [],
   "source": [
    "# The serial version- takes long time.\n",
    "n=10\n",
    "is_rsa = 0. # this is the correlation between two RSA matrices.\n",
    "rs = []\n",
    "ps = []\n",
    "n_sim = 5000\n",
    "for i in range(n_sim):\n",
    "    # This gives vectorized values for two squareform\n",
    "    rsas = easy_multivariate_normal(num_obs=int(n*(n-1)/2),num_features=2,corrs=is_rsa)\n",
    "    x,y = rsas[:,0], rsas[:,1]\n",
    "    # find nearest because each needs to be Positive semi definite.\n",
    "    x = parse_triangle(np.array(_nearestPD(squareform(x))))\n",
    "    y = parse_triangle(np.array(_nearestPD(squareform(y))))\n",
    "    # recalculate pearsonr\n",
    "    r,p = stats.pearsonr(x,y)\n",
    "    rs.append(r)\n",
    "    ps.append(p)  "
   ]
  },
  {
   "cell_type": "code",
   "execution_count": 188,
   "metadata": {
    "ExecuteTime": {
     "end_time": "2018-08-21T20:19:26.920951",
     "start_time": "2018-08-21T20:19:26.916636Z"
    }
   },
   "outputs": [
    {
     "data": {
      "text/plain": [
       "0.049835931091058244"
      ]
     },
     "execution_count": 188,
     "metadata": {},
     "output_type": "execute_result"
    }
   ],
   "source": [
    "np.sum(np.array(ps)<.05) /len(ps)"
   ]
  },
  {
   "cell_type": "code",
   "execution_count": 203,
   "metadata": {
    "ExecuteTime": {
     "end_time": "2018-08-21T20:33:45.028315",
     "start_time": "2018-08-21T20:33:45.020768Z"
    }
   },
   "outputs": [],
   "source": [
    "def calc_rsa(n,is_rsa,seed):\n",
    "    '''\n",
    "    n = number of subjects\n",
    "    is_rsa = correlation between two rsa matrices, 0.\n",
    "    seed: random seed\n",
    "    '''\n",
    "    # This gives vectorized values for two squareform\n",
    "    rsas = easy_multivariate_normal(num_obs=int(n*(n-1)/2),num_features=2,corrs=is_rsa,seed=seed)\n",
    "    x,y = rsas[:,0], rsas[:,1]\n",
    "    o_r,o_p = stats.pearsonr(x,y)\n",
    "    # find nearest because each needs to be Positive semi definite.\n",
    "    x = parse_triangle(np.array(_nearestPD(squareform(x))))\n",
    "    y = parse_triangle(np.array(_nearestPD(squareform(y))))\n",
    "    # recalculate pearsonr\n",
    "    r,p = stats.pearsonr(x,y)\n",
    "    return r,p,o_r,o_p"
   ]
  },
  {
   "cell_type": "code",
   "execution_count": 204,
   "metadata": {
    "ExecuteTime": {
     "end_time": "2018-08-21T20:35:22.502191",
     "start_time": "2018-08-21T20:33:45.995534Z"
    }
   },
   "outputs": [],
   "source": [
    "from joblib import Parallel, delayed\n",
    "results = Parallel(n_jobs = -2)(delayed(calc_rsa)(n, is_rsa, seed) for seed in range(n_sim))"
   ]
  },
  {
   "cell_type": "code",
   "execution_count": 206,
   "metadata": {
    "ExecuteTime": {
     "end_time": "2018-08-21T20:37:33.980996",
     "start_time": "2018-08-21T20:37:33.974043Z"
    }
   },
   "outputs": [
    {
     "name": "stdout",
     "output_type": "stream",
     "text": [
      "False Positive Rate with PD:  0.045\n",
      "False Positive Rate without PD:  0.0472\n"
     ]
    }
   ],
   "source": [
    "rs, ps, o_rs, o_ps = zip(*results)\n",
    "fpr = np.sum(np.array(ps)<.05) /len(ps)\n",
    "print('False Positive Rate with PD: ', fpr)\n",
    "fpr = np.sum(np.array(o_ps)<.05) /len(o_ps)\n",
    "print('False Positive Rate without PD: ', fpr)"
   ]
  },
  {
   "cell_type": "code",
   "execution_count": null,
   "metadata": {},
   "outputs": [],
   "source": []
  },
  {
   "cell_type": "code",
   "execution_count": null,
   "metadata": {},
   "outputs": [],
   "source": []
  },
  {
   "cell_type": "code",
   "execution_count": 193,
   "metadata": {
    "ExecuteTime": {
     "end_time": "2018-08-21T20:26:20.138920",
     "start_time": "2018-08-21T20:20:34.131678Z"
    }
   },
   "outputs": [],
   "source": [
    "results = Parallel(n_jobs = -2)(delayed(calc_rsa)(n, is_rsa, seed) for seed in range(n_sim))"
   ]
  },
  {
   "cell_type": "code",
   "execution_count": 195,
   "metadata": {
    "ExecuteTime": {
     "end_time": "2018-08-21T20:26:37.633617",
     "start_time": "2018-08-21T20:26:37.628221Z"
    }
   },
   "outputs": [
    {
     "name": "stdout",
     "output_type": "stream",
     "text": [
      "0.045\n"
     ]
    }
   ],
   "source": [
    "rs, ps = zip(*results)\n",
    "fpr = np.sum(np.array(ps)<.05) /len(ps)\n",
    "print(fpr)"
   ]
  },
  {
   "cell_type": "code",
   "execution_count": null,
   "metadata": {},
   "outputs": [],
   "source": []
  },
  {
   "cell_type": "code",
   "execution_count": null,
   "metadata": {},
   "outputs": [],
   "source": []
  },
  {
   "cell_type": "code",
   "execution_count": null,
   "metadata": {},
   "outputs": [],
   "source": []
  },
  {
   "cell_type": "code",
   "execution_count": null,
   "metadata": {
    "ExecuteTime": {
     "end_time": "2018-08-21T20:11:27.891967",
     "start_time": "2018-08-21T20:08:56.441238Z"
    },
    "scrolled": false
   },
   "outputs": [],
   "source": [
    "n=10\n",
    "is_rsa = 0.\n",
    "rs = []\n",
    "ps = []\n",
    "n_sim = 1000\n",
    "for i in range(n_sim):\n",
    "    r = .1\n",
    "    while abs(r) > .005: \n",
    "        rsas = easy_multivariate_normal(num_obs=int(n*(n-1)/2),num_features=2,corrs=is_rsa)\n",
    "        x,y = rsas[:,0], rsas[:,1]\n",
    "        x = parse_triangle(np.array(_nearestPD(squareform(x))))\n",
    "        y = parse_triangle(np.array(_nearestPD(squareform(y))))\n",
    "        r,p = stats.pearsonr(x,y)\n",
    "    rs.append(r)\n",
    "    ps.append(p)\n",
    "    print(i)"
   ]
  },
  {
   "cell_type": "code",
   "execution_count": null,
   "metadata": {},
   "outputs": [],
   "source": [
    "np.matrix()"
   ]
  },
  {
   "cell_type": "code",
   "execution_count": null,
   "metadata": {},
   "outputs": [],
   "source": []
  },
  {
   "cell_type": "code",
   "execution_count": 1,
   "metadata": {
    "ExecuteTime": {
     "end_time": "2018-09-07T20:41:04.485663",
     "start_time": "2018-09-07T20:41:04.200884Z"
    }
   },
   "outputs": [],
   "source": [
    "from scipy.spatial.distance import squareform\n",
    "def isPSD(A, tol=1e-100):\n",
    "    E,V = np.linalg.eigh(A)\n",
    "    return np.all(E > -tol)\n",
    "def _nearestPD(A, nit=100):\n",
    "    \"\"\"\n",
    "    Higham (2000) algorithm to find the nearest positive semi-definite matrix that minimizes the Frobenius distance/norm. Pretty sure this is what statsmodels uses, in corr_nearest. Reference: https://goo.gl/Eut7UU\n",
    "\n",
    "    Args:\n",
    "        nit (int): number of iterations to run algorithm; more iterations improves accuracy but increases computation time.\n",
    "    \"\"\"\n",
    "\n",
    "    n = A.shape[0]\n",
    "    W = np.identity(n)\n",
    "\n",
    "    def _getAplus(A):\n",
    "        eigval, eigvec = np.linalg.eig(A)\n",
    "        Q = np.matrix(eigvec)\n",
    "        xdiag = np.matrix(np.diag(np.maximum(eigval, 0)))\n",
    "        return Q*xdiag*Q.T\n",
    "\n",
    "    def _getPs(A, W=None):\n",
    "        W05 = np.matrix(W**.5)\n",
    "        return  W05.I * _getAplus(W05 * A * W05) * W05.I\n",
    "\n",
    "    def _getPu(A, W=None):\n",
    "        Aret = np.array(A.copy())\n",
    "        Aret[W > 0] = np.array(W)[W > 0]\n",
    "        return np.matrix(Aret)\n",
    "\n",
    "    # W is the matrix used for the norm (assumed to be Identity matrix here)\n",
    "    # the algorithm should work for any diagonal W\n",
    "    deltaS = 0\n",
    "    Yk = A.copy()\n",
    "    for k in range(nit):\n",
    "        Rk = Yk - deltaS\n",
    "        Xk = _getPs(Rk, W=W)\n",
    "        deltaS = Xk - Rk\n",
    "        Yk = _getPu(Xk, W=W)\n",
    "    return Yk\n",
    "\n",
    "def easy_multivariate_normal(num_obs, num_features, corrs, mu = 0.0, sigma = 1.0, seed = None,forcePD=True,return_new_corrs=False):\n",
    "    \"\"\"\n",
    "    Function to more easily generate multivariate normal samples provided a correlation matrix or list of correlations (upper triangle of correlation matrix) instead of a covariance matrix. Defaults to returning approximately standard normal (mu = 0; sigma = 1) variates. Unlike numpy, if the desired correlation matrix is not positive semi-definite, will by default issue a warning and find the nearest correlation matrix that is by default. This new matrix can optionally be returned used the return_new_corrs argument.\n",
    "\n",
    "    Args:\n",
    "        num_obs (int): number of observations/samples to generate (rows)\n",
    "        corrs (ndarray): num_features x num_features or flattend numpy array of length (num_features * (num_features-1)) / 2\n",
    "        num_features (int): number of features/variables/dimensions to generate (columns)\n",
    "        mu (float/list): mean of each feature across observations; default 0.0\n",
    "        sigma (float/list): sd of each feature across observations; default 1.0\n",
    "        forcePD (bool): whether to find and use a new correlation matrix if the requested one is not positive semi-definite; default False\n",
    "        return_new_corrs (bool): return the nearest correlation matrix that is positive semi-definite used to generate data; default False\n",
    "\n",
    "    Returns:\n",
    "        ndarray: correlated data as num_obs x num_features array\n",
    "    \"\"\"\n",
    "\n",
    "    if seed is not None:\n",
    "        np.random.seed(seed)\n",
    "\n",
    "    if isinstance(mu, list):\n",
    "        assert len(mu) == num_features, \"Number of means must match number of features\"\n",
    "    else:\n",
    "        mu = [mu] * num_features\n",
    "    if isinstance(sigma, list):\n",
    "        assert len(sigma) == num_features, \"Number of sds must match number of features\"\n",
    "    else:\n",
    "        sigma = [sigma] * num_features\n",
    "\n",
    "    if isinstance(corrs,np.ndarray) and corrs.ndim == 2:\n",
    "        assert corrs.shape[0] == corrs.shape[1] and np.allclose(corrs,corrs.T) and np.allclose(np.diagonal(corrs),np.ones_like(np.diagonal(corrs))), \"Correlation matrix must be square symmetric\"\n",
    "    elif (isinstance(corrs,np.ndarray) and corrs.ndim == 1) or isinstance(corrs,list):\n",
    "        assert len(corrs) == (num_features * (num_features-1)) / 2, \"(num_features * (num_features - 1) / 2) correlation values are required for a flattened array or list\"\n",
    "        corrs = squareform(corrs)\n",
    "        np.fill_diagonal(corrs,1.0)\n",
    "    elif isinstance(corrs,float):\n",
    "        corrs = np.array([corrs] * int(((num_features * (num_features-1)) / 2)))\n",
    "        corrs = squareform(corrs)\n",
    "        np.fill_diagonal(corrs,1.0)\n",
    "    else:\n",
    "        raise ValueError(\"Correlations must be num_features x num_feature, flattend numpy array/list or scalar\")\n",
    "\n",
    "    if not isPSD(corrs):\n",
    "        if forcePD:\n",
    "            # Tell user their correlations are being recomputed if they didnt ask to save them as they might not realize\n",
    "            if not return_new_corrs:\n",
    "                print(\"Correlation matrix is not positive semi-definite. Solved for new correlation matrix.\")\n",
    "            _corrs = np.array(_nearestPD(corrs))\n",
    "\n",
    "        else:\n",
    "            raise ValueError(\"Correlation matrix is not positive semi-definite. Pymer4 will not generate inaccurate multivariate data. Use the forcePD argument to automatically solve for the closest desired correlation matrix.\")\n",
    "    else:\n",
    "        _corrs = corrs\n",
    "\n",
    "    #Rescale correlation matrix by variances, given standard deviations of features\n",
    "    sd = np.diag(sigma)\n",
    "    #R * Vars = R * SD * SD\n",
    "    cov = _corrs.dot(sd.dot(sd))\n",
    "    X = np.random.multivariate_normal(mu, cov, size = num_obs)\n",
    "\n",
    "    if return_new_corrs:\n",
    "        return X, _corrs\n",
    "    else:\n",
    "        return X"
   ]
  },
  {
   "cell_type": "code",
   "execution_count": null,
   "metadata": {},
   "outputs": [],
   "source": []
  },
  {
   "cell_type": "markdown",
   "metadata": {},
   "source": [
    "# Monte Carlo simulation"
   ]
  },
  {
   "cell_type": "code",
   "execution_count": 20,
   "metadata": {
    "ExecuteTime": {
     "end_time": "2018-08-22T16:01:39.380489",
     "start_time": "2018-08-22T15:56:43.800394Z"
    }
   },
   "outputs": [],
   "source": [
    "# Create a dataset \n",
    "n=1000\n",
    "is_rsa = 0. # this is the correlation between two RSA matrices.\n",
    "rs = []\n",
    "ps = []\n",
    "n_sim = 5000\n",
    "r=.1\n",
    "while abs(r)>.05:\n",
    "    # This gives vectorized values for two matrices\n",
    "    rsas = easy_multivariate_normal(num_obs=int(n*(n-1)/2),num_features=2,corrs=is_rsa)\n",
    "    x,y = rsas[:,0], rsas[:,1]\n",
    "    # find nearest because each needs to be Positive semi definite.\n",
    "    x = parse_triangle(np.array(_nearestPD(squareform(x))))\n",
    "    y = parse_triangle(np.array(_nearestPD(squareform(y))))\n",
    "    # recalculate matrix similarity\n",
    "    r,p = stats.spearmanr(x,y) "
   ]
  },
  {
   "cell_type": "code",
   "execution_count": 16,
   "metadata": {
    "ExecuteTime": {
     "end_time": "2018-08-22T15:54:19.807834",
     "start_time": "2018-08-22T15:54:19.792573Z"
    }
   },
   "outputs": [
    {
     "data": {
      "text/plain": [
       "1.0"
      ]
     },
     "execution_count": 16,
     "metadata": {},
     "output_type": "execute_result"
    }
   ],
   "source": [
    "np.mean(np.matrix(squareform(y)).getH() == squareform(y))"
   ]
  },
  {
   "cell_type": "code",
   "execution_count": 211,
   "metadata": {
    "ExecuteTime": {
     "end_time": "2018-08-22T14:38:32.351149",
     "start_time": "2018-08-22T14:38:32.345256Z"
    }
   },
   "outputs": [],
   "source": [
    "x = np.array(x)\n",
    "y = np.array(y)"
   ]
  },
  {
   "cell_type": "code",
   "execution_count": 215,
   "metadata": {
    "ExecuteTime": {
     "end_time": "2018-08-22T14:39:07.849979",
     "start_time": "2018-08-22T14:39:07.839700Z"
    }
   },
   "outputs": [],
   "source": [
    "x_mat = pd.DataFrame(squareform(x))\n",
    "y_mat = pd.DataFrame(squareform(y))"
   ]
  },
  {
   "cell_type": "code",
   "execution_count": 2,
   "metadata": {
    "ExecuteTime": {
     "end_time": "2018-09-07T20:41:10.725620",
     "start_time": "2018-09-07T20:41:10.718199Z"
    }
   },
   "outputs": [],
   "source": [
    "def calc_fpr(n_size,seed):\n",
    "    np.random.seed(seed=seed)\n",
    "    n_sim = 5000\n",
    "    sim_rs, sim_ps = np.empty(n_sim),np.empty(n_sim)\n",
    "    for i in range(n_sim):\n",
    "        new_subs = np.random.choice(range(n),size=n_size,replace=False)\n",
    "        new_x_vec = parse_triangle(x_mat.iloc[new_subs,new_subs])\n",
    "        new_y_vec = parse_triangle(y_mat.iloc[new_subs,new_subs])\n",
    "        sim_r, sim_p = stats.spearmanr(new_x_vec,new_y_vec)\n",
    "        sim_rs[i]=sim_r\n",
    "        sim_ps[i]=sim_p\n",
    "    fpr = np.sum(sim_ps < .05)/len(sim_ps)\n",
    "    return fpr"
   ]
  },
  {
   "cell_type": "code",
   "execution_count": 271,
   "metadata": {
    "ExecuteTime": {
     "end_time": "2018-08-22T15:03:08.265783",
     "start_time": "2018-08-22T14:57:29.568305Z"
    }
   },
   "outputs": [],
   "source": [
    "n_size = 10\n",
    "n_sim_fpr = 100\n",
    "results = Parallel(n_jobs=-2)(delayed(calc_fpr)(n_size,seed) for seed in range(n_sim_fpr))"
   ]
  },
  {
   "cell_type": "code",
   "execution_count": 275,
   "metadata": {
    "ExecuteTime": {
     "end_time": "2018-08-22T15:18:01.124008",
     "start_time": "2018-08-22T15:18:01.121347Z"
    }
   },
   "outputs": [],
   "source": [
    "results_10 = results.copy()"
   ]
  },
  {
   "cell_type": "code",
   "execution_count": 276,
   "metadata": {
    "ExecuteTime": {
     "end_time": "2018-08-22T15:24:48.708733",
     "start_time": "2018-08-22T15:18:17.776891Z"
    }
   },
   "outputs": [],
   "source": [
    "n_size = 30\n",
    "n_sim_fpr = 100\n",
    "results_30 = Parallel(n_jobs=-2)(delayed(calc_fpr)(n_size,seed) for seed in range(n_sim_fpr))"
   ]
  },
  {
   "cell_type": "code",
   "execution_count": 277,
   "metadata": {
    "ExecuteTime": {
     "end_time": "2018-08-22T15:24:57.175407",
     "start_time": "2018-08-22T15:24:57.170466Z"
    }
   },
   "outputs": [
    {
     "data": {
      "text/plain": [
       "0.049946000000000004"
      ]
     },
     "execution_count": 277,
     "metadata": {},
     "output_type": "execute_result"
    }
   ],
   "source": [
    "np.mean(results_30)"
   ]
  },
  {
   "cell_type": "code",
   "execution_count": null,
   "metadata": {},
   "outputs": [],
   "source": []
  },
  {
   "cell_type": "markdown",
   "metadata": {},
   "source": [
    "# Test for group difference case"
   ]
  },
  {
   "cell_type": "code",
   "execution_count": 9,
   "metadata": {
    "ExecuteTime": {
     "end_time": "2018-09-07T20:41:31.878000",
     "start_time": "2018-09-07T20:41:31.869238Z"
    }
   },
   "outputs": [
    {
     "ename": "NameError",
     "evalue": "name 'new_x_vec' is not defined",
     "output_type": "error",
     "traceback": [
      "\u001b[0;31m---------------------------------------------------------------------------\u001b[0m",
      "\u001b[0;31mNameError\u001b[0m                                 Traceback (most recent call last)",
      "\u001b[0;32m<ipython-input-9-72e6b259dc80>\u001b[0m in \u001b[0;36m<module>\u001b[0;34m()\u001b[0m\n\u001b[0;32m----> 1\u001b[0;31m \u001b[0m_\u001b[0m\u001b[0;34m,\u001b[0m\u001b[0msim_p\u001b[0m \u001b[0;34m=\u001b[0m \u001b[0mstats\u001b[0m\u001b[0;34m.\u001b[0m\u001b[0mttest_1samp\u001b[0m\u001b[0;34m(\u001b[0m\u001b[0mnew_x_vec\u001b[0m\u001b[0;34m,\u001b[0m\u001b[0mnew_y_vec\u001b[0m\u001b[0;34m)\u001b[0m\u001b[0;34m\u001b[0m\u001b[0m\n\u001b[0m",
      "\u001b[0;31mNameError\u001b[0m: name 'new_x_vec' is not defined"
     ]
    }
   ],
   "source": [
    "_,sim_p = stats.ttest_1samp(new_x_vec,new_y_vec)"
   ]
  },
  {
   "cell_type": "code",
   "execution_count": 7,
   "metadata": {
    "ExecuteTime": {
     "end_time": "2018-09-07T20:41:29.942871",
     "start_time": "2018-09-07T20:41:29.935405Z"
    }
   },
   "outputs": [],
   "source": [
    "def calc_fpr_ttest(n_size,seed):\n",
    "    np.random.seed(seed=seed)\n",
    "    n_sim = 5000\n",
    "    sim_rs, sim_ps = np.empty(n_sim),np.empty(n_sim)\n",
    "    for i in range(n_sim):\n",
    "        new_subs = np.random.choice(range(n),size=n_size,replace=False)\n",
    "        new_x_vec = parse_triangle(x_mat.iloc[new_subs,new_subs])\n",
    "        new_y_vec = parse_triangle(y_mat.iloc[new_subs,new_subs])\n",
    "        _,sim_p = stats.ttest_1samp(new_x_vec-new_y_vec,0)\n",
    "        sim_ps[i]=sim_p\n",
    "    fpr = np.sum(sim_ps < .05)/len(sim_ps)\n",
    "    return fpr"
   ]
  },
  {
   "cell_type": "code",
   "execution_count": 10,
   "metadata": {
    "ExecuteTime": {
     "end_time": "2018-09-07T20:41:41.115413",
     "start_time": "2018-09-07T20:41:40.922646Z"
    }
   },
   "outputs": [
    {
     "ename": "JoblibNameError",
     "evalue": "JoblibNameError\n___________________________________________________________________________\nMultiprocessing exception:\n...........................................................................\n/Users/jinhyuncheong/anaconda2/envs/py36/lib/python3.6/runpy.py in _run_module_as_main(mod_name='ipykernel.__main__', alter_argv=1)\n    188         sys.exit(msg)\n    189     main_globals = sys.modules[\"__main__\"].__dict__\n    190     if alter_argv:\n    191         sys.argv[0] = mod_spec.origin\n    192     return _run_code(code, main_globals, None,\n--> 193                      \"__main__\", mod_spec)\n        mod_spec = ModuleSpec(name='ipykernel.__main__', loader=<_f...b/python3.6/site-packages/ipykernel/__main__.py')\n    194 \n    195 def run_module(mod_name, init_globals=None,\n    196                run_name=None, alter_sys=False):\n    197     \"\"\"Execute a module's code without importing it\n\n...........................................................................\n/Users/jinhyuncheong/anaconda2/envs/py36/lib/python3.6/runpy.py in _run_code(code=<code object <module> at 0x10cbaf9c0, file \"/Use...3.6/site-packages/ipykernel/__main__.py\", line 1>, run_globals={'__annotations__': {}, '__builtins__': <module 'builtins' (built-in)>, '__cached__': '/Users/jinhyuncheong/anaconda2/envs/py36/lib/pyt...ges/ipykernel/__pycache__/__main__.cpython-36.pyc', '__doc__': None, '__file__': '/Users/jinhyuncheong/anaconda2/envs/py36/lib/python3.6/site-packages/ipykernel/__main__.py', '__loader__': <_frozen_importlib_external.SourceFileLoader object>, '__name__': '__main__', '__package__': 'ipykernel', '__spec__': ModuleSpec(name='ipykernel.__main__', loader=<_f...b/python3.6/site-packages/ipykernel/__main__.py'), 'app': <module 'ipykernel.kernelapp' from '/Users/jinhy.../python3.6/site-packages/ipykernel/kernelapp.py'>}, init_globals=None, mod_name='__main__', mod_spec=ModuleSpec(name='ipykernel.__main__', loader=<_f...b/python3.6/site-packages/ipykernel/__main__.py'), pkg_name='ipykernel', script_name=None)\n     80                        __cached__ = cached,\n     81                        __doc__ = None,\n     82                        __loader__ = loader,\n     83                        __package__ = pkg_name,\n     84                        __spec__ = mod_spec)\n---> 85     exec(code, run_globals)\n        code = <code object <module> at 0x10cbaf9c0, file \"/Use...3.6/site-packages/ipykernel/__main__.py\", line 1>\n        run_globals = {'__annotations__': {}, '__builtins__': <module 'builtins' (built-in)>, '__cached__': '/Users/jinhyuncheong/anaconda2/envs/py36/lib/pyt...ges/ipykernel/__pycache__/__main__.cpython-36.pyc', '__doc__': None, '__file__': '/Users/jinhyuncheong/anaconda2/envs/py36/lib/python3.6/site-packages/ipykernel/__main__.py', '__loader__': <_frozen_importlib_external.SourceFileLoader object>, '__name__': '__main__', '__package__': 'ipykernel', '__spec__': ModuleSpec(name='ipykernel.__main__', loader=<_f...b/python3.6/site-packages/ipykernel/__main__.py'), 'app': <module 'ipykernel.kernelapp' from '/Users/jinhy.../python3.6/site-packages/ipykernel/kernelapp.py'>}\n     86     return run_globals\n     87 \n     88 def _run_module_code(code, init_globals=None,\n     89                     mod_name=None, mod_spec=None,\n\n...........................................................................\n/Users/jinhyuncheong/anaconda2/envs/py36/lib/python3.6/site-packages/ipykernel/__main__.py in <module>()\n      1 if __name__ == '__main__':\n      2     from ipykernel import kernelapp as app\n----> 3     app.launch_new_instance()\n\n...........................................................................\n/Users/jinhyuncheong/anaconda2/envs/py36/lib/python3.6/site-packages/traitlets/config/application.py in launch_instance(cls=<class 'ipykernel.kernelapp.IPKernelApp'>, argv=None, **kwargs={})\n    653 \n    654         If a global instance already exists, this reinitializes and starts it\n    655         \"\"\"\n    656         app = cls.instance(**kwargs)\n    657         app.initialize(argv)\n--> 658         app.start()\n        app.start = <bound method IPKernelApp.start of <ipykernel.kernelapp.IPKernelApp object>>\n    659 \n    660 #-----------------------------------------------------------------------------\n    661 # utility functions, for convenience\n    662 #-----------------------------------------------------------------------------\n\n...........................................................................\n/Users/jinhyuncheong/anaconda2/envs/py36/lib/python3.6/site-packages/ipykernel/kernelapp.py in start(self=<ipykernel.kernelapp.IPKernelApp object>)\n    472             return self.subapp.start()\n    473         if self.poller is not None:\n    474             self.poller.start()\n    475         self.kernel.start()\n    476         try:\n--> 477             ioloop.IOLoop.instance().start()\n    478         except KeyboardInterrupt:\n    479             pass\n    480 \n    481 launch_new_instance = IPKernelApp.launch_instance\n\n...........................................................................\n/Users/jinhyuncheong/anaconda2/envs/py36/lib/python3.6/site-packages/zmq/eventloop/ioloop.py in start(self=<zmq.eventloop.ioloop.ZMQIOLoop object>)\n    172             )\n    173         return loop\n    174     \n    175     def start(self):\n    176         try:\n--> 177             super(ZMQIOLoop, self).start()\n        self.start = <bound method ZMQIOLoop.start of <zmq.eventloop.ioloop.ZMQIOLoop object>>\n    178         except ZMQError as e:\n    179             if e.errno == ETERM:\n    180                 # quietly return on ETERM\n    181                 pass\n\n...........................................................................\n/Users/jinhyuncheong/anaconda2/envs/py36/lib/python3.6/site-packages/tornado/ioloop.py in start(self=<zmq.eventloop.ioloop.ZMQIOLoop object>)\n    883                 self._events.update(event_pairs)\n    884                 while self._events:\n    885                     fd, events = self._events.popitem()\n    886                     try:\n    887                         fd_obj, handler_func = self._handlers[fd]\n--> 888                         handler_func(fd_obj, events)\n        handler_func = <function wrap.<locals>.null_wrapper>\n        fd_obj = <zmq.sugar.socket.Socket object>\n        events = 1\n    889                     except (OSError, IOError) as e:\n    890                         if errno_from_exception(e) == errno.EPIPE:\n    891                             # Happens when the client closes the connection\n    892                             pass\n\n...........................................................................\n/Users/jinhyuncheong/anaconda2/envs/py36/lib/python3.6/site-packages/tornado/stack_context.py in null_wrapper(*args=(<zmq.sugar.socket.Socket object>, 1), **kwargs={})\n    272         # Fast path when there are no active contexts.\n    273         def null_wrapper(*args, **kwargs):\n    274             try:\n    275                 current_state = _state.contexts\n    276                 _state.contexts = cap_contexts[0]\n--> 277                 return fn(*args, **kwargs)\n        args = (<zmq.sugar.socket.Socket object>, 1)\n        kwargs = {}\n    278             finally:\n    279                 _state.contexts = current_state\n    280         null_wrapper._wrapped = True\n    281         return null_wrapper\n\n...........................................................................\n/Users/jinhyuncheong/anaconda2/envs/py36/lib/python3.6/site-packages/zmq/eventloop/zmqstream.py in _handle_events(self=<zmq.eventloop.zmqstream.ZMQStream object>, fd=<zmq.sugar.socket.Socket object>, events=1)\n    435             # dispatch events:\n    436             if events & IOLoop.ERROR:\n    437                 gen_log.error(\"got POLLERR event on ZMQStream, which doesn't make sense\")\n    438                 return\n    439             if events & IOLoop.READ:\n--> 440                 self._handle_recv()\n        self._handle_recv = <bound method ZMQStream._handle_recv of <zmq.eventloop.zmqstream.ZMQStream object>>\n    441                 if not self.socket:\n    442                     return\n    443             if events & IOLoop.WRITE:\n    444                 self._handle_send()\n\n...........................................................................\n/Users/jinhyuncheong/anaconda2/envs/py36/lib/python3.6/site-packages/zmq/eventloop/zmqstream.py in _handle_recv(self=<zmq.eventloop.zmqstream.ZMQStream object>)\n    467                 gen_log.error(\"RECV Error: %s\"%zmq.strerror(e.errno))\n    468         else:\n    469             if self._recv_callback:\n    470                 callback = self._recv_callback\n    471                 # self._recv_callback = None\n--> 472                 self._run_callback(callback, msg)\n        self._run_callback = <bound method ZMQStream._run_callback of <zmq.eventloop.zmqstream.ZMQStream object>>\n        callback = <function wrap.<locals>.null_wrapper>\n        msg = [<zmq.sugar.frame.Frame object>, <zmq.sugar.frame.Frame object>, <zmq.sugar.frame.Frame object>, <zmq.sugar.frame.Frame object>, <zmq.sugar.frame.Frame object>, <zmq.sugar.frame.Frame object>, <zmq.sugar.frame.Frame object>]\n    473                 \n    474         # self.update_state()\n    475         \n    476 \n\n...........................................................................\n/Users/jinhyuncheong/anaconda2/envs/py36/lib/python3.6/site-packages/zmq/eventloop/zmqstream.py in _run_callback(self=<zmq.eventloop.zmqstream.ZMQStream object>, callback=<function wrap.<locals>.null_wrapper>, *args=([<zmq.sugar.frame.Frame object>, <zmq.sugar.frame.Frame object>, <zmq.sugar.frame.Frame object>, <zmq.sugar.frame.Frame object>, <zmq.sugar.frame.Frame object>, <zmq.sugar.frame.Frame object>, <zmq.sugar.frame.Frame object>],), **kwargs={})\n    409         close our socket.\"\"\"\n    410         try:\n    411             # Use a NullContext to ensure that all StackContexts are run\n    412             # inside our blanket exception handler rather than outside.\n    413             with stack_context.NullContext():\n--> 414                 callback(*args, **kwargs)\n        callback = <function wrap.<locals>.null_wrapper>\n        args = ([<zmq.sugar.frame.Frame object>, <zmq.sugar.frame.Frame object>, <zmq.sugar.frame.Frame object>, <zmq.sugar.frame.Frame object>, <zmq.sugar.frame.Frame object>, <zmq.sugar.frame.Frame object>, <zmq.sugar.frame.Frame object>],)\n        kwargs = {}\n    415         except:\n    416             gen_log.error(\"Uncaught exception, closing connection.\",\n    417                           exc_info=True)\n    418             # Close the socket on an uncaught exception from a user callback\n\n...........................................................................\n/Users/jinhyuncheong/anaconda2/envs/py36/lib/python3.6/site-packages/tornado/stack_context.py in null_wrapper(*args=([<zmq.sugar.frame.Frame object>, <zmq.sugar.frame.Frame object>, <zmq.sugar.frame.Frame object>, <zmq.sugar.frame.Frame object>, <zmq.sugar.frame.Frame object>, <zmq.sugar.frame.Frame object>, <zmq.sugar.frame.Frame object>],), **kwargs={})\n    272         # Fast path when there are no active contexts.\n    273         def null_wrapper(*args, **kwargs):\n    274             try:\n    275                 current_state = _state.contexts\n    276                 _state.contexts = cap_contexts[0]\n--> 277                 return fn(*args, **kwargs)\n        args = ([<zmq.sugar.frame.Frame object>, <zmq.sugar.frame.Frame object>, <zmq.sugar.frame.Frame object>, <zmq.sugar.frame.Frame object>, <zmq.sugar.frame.Frame object>, <zmq.sugar.frame.Frame object>, <zmq.sugar.frame.Frame object>],)\n        kwargs = {}\n    278             finally:\n    279                 _state.contexts = current_state\n    280         null_wrapper._wrapped = True\n    281         return null_wrapper\n\n...........................................................................\n/Users/jinhyuncheong/anaconda2/envs/py36/lib/python3.6/site-packages/ipykernel/kernelbase.py in dispatcher(msg=[<zmq.sugar.frame.Frame object>, <zmq.sugar.frame.Frame object>, <zmq.sugar.frame.Frame object>, <zmq.sugar.frame.Frame object>, <zmq.sugar.frame.Frame object>, <zmq.sugar.frame.Frame object>, <zmq.sugar.frame.Frame object>])\n    278         if self.control_stream:\n    279             self.control_stream.on_recv(self.dispatch_control, copy=False)\n    280 \n    281         def make_dispatcher(stream):\n    282             def dispatcher(msg):\n--> 283                 return self.dispatch_shell(stream, msg)\n        msg = [<zmq.sugar.frame.Frame object>, <zmq.sugar.frame.Frame object>, <zmq.sugar.frame.Frame object>, <zmq.sugar.frame.Frame object>, <zmq.sugar.frame.Frame object>, <zmq.sugar.frame.Frame object>, <zmq.sugar.frame.Frame object>]\n    284             return dispatcher\n    285 \n    286         for s in self.shell_streams:\n    287             s.on_recv(make_dispatcher(s), copy=False)\n\n...........................................................................\n/Users/jinhyuncheong/anaconda2/envs/py36/lib/python3.6/site-packages/ipykernel/kernelbase.py in dispatch_shell(self=<ipykernel.ipkernel.IPythonKernel object>, stream=<zmq.eventloop.zmqstream.ZMQStream object>, msg={'buffers': [], 'content': {'allow_stdin': True, 'code': 'n_size = 30\\nn_sim_fpr = 100\\nresults_30 = Paralle...ttest)(n_size,seed) for seed in range(n_sim_fpr))', 'silent': False, 'stop_on_error': True, 'store_history': True, 'user_expressions': {}}, 'header': {'date': datetime.datetime(2018, 9, 7, 16, 41, 40, 921034, tzinfo=tzlocal()), 'msg_id': '1BEFF2D2E1394F9B9BF6BD90CFF43D8C', 'msg_type': 'execute_request', 'session': '48585D22C9FF43E88E186C571A5CD764', 'username': 'username', 'version': '5.2'}, 'metadata': {}, 'msg_id': '1BEFF2D2E1394F9B9BF6BD90CFF43D8C', 'msg_type': 'execute_request', 'parent_header': {}})\n    230             self.log.warn(\"Unknown message type: %r\", msg_type)\n    231         else:\n    232             self.log.debug(\"%s: %s\", msg_type, msg)\n    233             self.pre_handler_hook()\n    234             try:\n--> 235                 handler(stream, idents, msg)\n        handler = <bound method Kernel.execute_request of <ipykernel.ipkernel.IPythonKernel object>>\n        stream = <zmq.eventloop.zmqstream.ZMQStream object>\n        idents = [b'48585D22C9FF43E88E186C571A5CD764']\n        msg = {'buffers': [], 'content': {'allow_stdin': True, 'code': 'n_size = 30\\nn_sim_fpr = 100\\nresults_30 = Paralle...ttest)(n_size,seed) for seed in range(n_sim_fpr))', 'silent': False, 'stop_on_error': True, 'store_history': True, 'user_expressions': {}}, 'header': {'date': datetime.datetime(2018, 9, 7, 16, 41, 40, 921034, tzinfo=tzlocal()), 'msg_id': '1BEFF2D2E1394F9B9BF6BD90CFF43D8C', 'msg_type': 'execute_request', 'session': '48585D22C9FF43E88E186C571A5CD764', 'username': 'username', 'version': '5.2'}, 'metadata': {}, 'msg_id': '1BEFF2D2E1394F9B9BF6BD90CFF43D8C', 'msg_type': 'execute_request', 'parent_header': {}}\n    236             except Exception:\n    237                 self.log.error(\"Exception in message handler:\", exc_info=True)\n    238             finally:\n    239                 self.post_handler_hook()\n\n...........................................................................\n/Users/jinhyuncheong/anaconda2/envs/py36/lib/python3.6/site-packages/ipykernel/kernelbase.py in execute_request(self=<ipykernel.ipkernel.IPythonKernel object>, stream=<zmq.eventloop.zmqstream.ZMQStream object>, ident=[b'48585D22C9FF43E88E186C571A5CD764'], parent={'buffers': [], 'content': {'allow_stdin': True, 'code': 'n_size = 30\\nn_sim_fpr = 100\\nresults_30 = Paralle...ttest)(n_size,seed) for seed in range(n_sim_fpr))', 'silent': False, 'stop_on_error': True, 'store_history': True, 'user_expressions': {}}, 'header': {'date': datetime.datetime(2018, 9, 7, 16, 41, 40, 921034, tzinfo=tzlocal()), 'msg_id': '1BEFF2D2E1394F9B9BF6BD90CFF43D8C', 'msg_type': 'execute_request', 'session': '48585D22C9FF43E88E186C571A5CD764', 'username': 'username', 'version': '5.2'}, 'metadata': {}, 'msg_id': '1BEFF2D2E1394F9B9BF6BD90CFF43D8C', 'msg_type': 'execute_request', 'parent_header': {}})\n    394         if not silent:\n    395             self.execution_count += 1\n    396             self._publish_execute_input(code, parent, self.execution_count)\n    397 \n    398         reply_content = self.do_execute(code, silent, store_history,\n--> 399                                         user_expressions, allow_stdin)\n        user_expressions = {}\n        allow_stdin = True\n    400 \n    401         # Flush output before sending the reply.\n    402         sys.stdout.flush()\n    403         sys.stderr.flush()\n\n...........................................................................\n/Users/jinhyuncheong/anaconda2/envs/py36/lib/python3.6/site-packages/ipykernel/ipkernel.py in do_execute(self=<ipykernel.ipkernel.IPythonKernel object>, code='n_size = 30\\nn_sim_fpr = 100\\nresults_30 = Paralle...ttest)(n_size,seed) for seed in range(n_sim_fpr))', silent=False, store_history=True, user_expressions={}, allow_stdin=True)\n    191 \n    192         self._forward_input(allow_stdin)\n    193 \n    194         reply_content = {}\n    195         try:\n--> 196             res = shell.run_cell(code, store_history=store_history, silent=silent)\n        res = undefined\n        shell.run_cell = <bound method ZMQInteractiveShell.run_cell of <ipykernel.zmqshell.ZMQInteractiveShell object>>\n        code = 'n_size = 30\\nn_sim_fpr = 100\\nresults_30 = Paralle...ttest)(n_size,seed) for seed in range(n_sim_fpr))'\n        store_history = True\n        silent = False\n    197         finally:\n    198             self._restore_input()\n    199 \n    200         if res.error_before_exec is not None:\n\n...........................................................................\n/Users/jinhyuncheong/anaconda2/envs/py36/lib/python3.6/site-packages/ipykernel/zmqshell.py in run_cell(self=<ipykernel.zmqshell.ZMQInteractiveShell object>, *args=('n_size = 30\\nn_sim_fpr = 100\\nresults_30 = Paralle...ttest)(n_size,seed) for seed in range(n_sim_fpr))',), **kwargs={'silent': False, 'store_history': True})\n    528             )\n    529         self.payload_manager.write_payload(payload)\n    530 \n    531     def run_cell(self, *args, **kwargs):\n    532         self._last_traceback = None\n--> 533         return super(ZMQInteractiveShell, self).run_cell(*args, **kwargs)\n        self.run_cell = <bound method ZMQInteractiveShell.run_cell of <ipykernel.zmqshell.ZMQInteractiveShell object>>\n        args = ('n_size = 30\\nn_sim_fpr = 100\\nresults_30 = Paralle...ttest)(n_size,seed) for seed in range(n_sim_fpr))',)\n        kwargs = {'silent': False, 'store_history': True}\n    534 \n    535     def _showtraceback(self, etype, evalue, stb):\n    536         # try to preserve ordering of tracebacks and print statements\n    537         sys.stdout.flush()\n\n...........................................................................\n/Users/jinhyuncheong/anaconda2/envs/py36/lib/python3.6/site-packages/IPython/core/interactiveshell.py in run_cell(self=<ipykernel.zmqshell.ZMQInteractiveShell object>, raw_cell='n_size = 30\\nn_sim_fpr = 100\\nresults_30 = Paralle...ttest)(n_size,seed) for seed in range(n_sim_fpr))', store_history=True, silent=False, shell_futures=True)\n   2712                 self.displayhook.exec_result = result\n   2713 \n   2714                 # Execute the user code\n   2715                 interactivity = \"none\" if silent else self.ast_node_interactivity\n   2716                 has_raised = self.run_ast_nodes(code_ast.body, cell_name,\n-> 2717                    interactivity=interactivity, compiler=compiler, result=result)\n        interactivity = 'last_expr'\n        compiler = <IPython.core.compilerop.CachingCompiler object>\n   2718                 \n   2719                 self.last_execution_succeeded = not has_raised\n   2720 \n   2721                 # Reset this so later displayed values do not modify the\n\n...........................................................................\n/Users/jinhyuncheong/anaconda2/envs/py36/lib/python3.6/site-packages/IPython/core/interactiveshell.py in run_ast_nodes(self=<ipykernel.zmqshell.ZMQInteractiveShell object>, nodelist=[<_ast.Assign object>, <_ast.Assign object>, <_ast.Assign object>], cell_name='<ipython-input-10-04cd3f427d02>', interactivity='none', compiler=<IPython.core.compilerop.CachingCompiler object>, result=<ExecutionResult object at 1136e5470, execution_..._before_exec=None error_in_exec=None result=None>)\n   2816 \n   2817         try:\n   2818             for i, node in enumerate(to_run_exec):\n   2819                 mod = ast.Module([node])\n   2820                 code = compiler(mod, cell_name, \"exec\")\n-> 2821                 if self.run_code(code, result):\n        self.run_code = <bound method InteractiveShell.run_code of <ipykernel.zmqshell.ZMQInteractiveShell object>>\n        code = <code object <module> at 0x1137d7420, file \"<ipython-input-10-04cd3f427d02>\", line 3>\n        result = <ExecutionResult object at 1136e5470, execution_..._before_exec=None error_in_exec=None result=None>\n   2822                     return True\n   2823 \n   2824             for i, node in enumerate(to_run_interactive):\n   2825                 mod = ast.Interactive([node])\n\n...........................................................................\n/Users/jinhyuncheong/anaconda2/envs/py36/lib/python3.6/site-packages/IPython/core/interactiveshell.py in run_code(self=<ipykernel.zmqshell.ZMQInteractiveShell object>, code_obj=<code object <module> at 0x1137d7420, file \"<ipython-input-10-04cd3f427d02>\", line 3>, result=<ExecutionResult object at 1136e5470, execution_..._before_exec=None error_in_exec=None result=None>)\n   2876         outflag = 1  # happens in more places, so it's easier as default\n   2877         try:\n   2878             try:\n   2879                 self.hooks.pre_run_code_hook()\n   2880                 #rprint('Running code', repr(code_obj)) # dbg\n-> 2881                 exec(code_obj, self.user_global_ns, self.user_ns)\n        code_obj = <code object <module> at 0x1137d7420, file \"<ipython-input-10-04cd3f427d02>\", line 3>\n        self.user_global_ns = {'In': ['', 'from scipy.spatial.distance import squareform\\nde...      return X, _corrs\\n    else:\\n        return X', 'def calc_fpr(n_size,seed):\\n    np.random.seed(se...= np.sum(sim_ps < .05)/len(sim_ps)\\n    return fpr', 'def calc_fpr_ttest(n_size,seed):\\n    np.random.s...= np.sum(sim_ps < .05)/len(sim_ps)\\n    return fpr', 'n_size = 30\\nn_sim_fpr = 100\\nresults_30 = Paralle...ttest)(n_size,seed) for seed in range(n_sim_fpr))', 'np.mean(results_30)', \"import numpy as np\\nimport scipy.stats as stats\\ni...('Condition,'+ str(condition) +' not recognized')\", 'def calc_fpr_ttest(n_size,seed):\\n    np.random.s...= np.sum(sim_ps < .05)/len(sim_ps)\\n    return fpr', 'n_size = 30\\nn_sim_fpr = 100\\nresults_30 = Paralle...ttest)(n_size,seed) for seed in range(n_sim_fpr))', '_,sim_p = stats.ttest_1samp(new_x_vec,new_y_vec)', 'n_size = 30\\nn_sim_fpr = 100\\nresults_30 = Paralle...ttest)(n_size,seed) for seed in range(n_sim_fpr))'], 'Out': {}, 'Parallel': <class 'joblib.parallel.Parallel'>, '_': '', '__': '', '___': '', '__builtin__': <module 'builtins' (built-in)>, '__builtins__': <module 'builtins' (built-in)>, '__doc__': 'Automatically created module for IPython interactive environment', '__loader__': None, ...}\n        self.user_ns = {'In': ['', 'from scipy.spatial.distance import squareform\\nde...      return X, _corrs\\n    else:\\n        return X', 'def calc_fpr(n_size,seed):\\n    np.random.seed(se...= np.sum(sim_ps < .05)/len(sim_ps)\\n    return fpr', 'def calc_fpr_ttest(n_size,seed):\\n    np.random.s...= np.sum(sim_ps < .05)/len(sim_ps)\\n    return fpr', 'n_size = 30\\nn_sim_fpr = 100\\nresults_30 = Paralle...ttest)(n_size,seed) for seed in range(n_sim_fpr))', 'np.mean(results_30)', \"import numpy as np\\nimport scipy.stats as stats\\ni...('Condition,'+ str(condition) +' not recognized')\", 'def calc_fpr_ttest(n_size,seed):\\n    np.random.s...= np.sum(sim_ps < .05)/len(sim_ps)\\n    return fpr', 'n_size = 30\\nn_sim_fpr = 100\\nresults_30 = Paralle...ttest)(n_size,seed) for seed in range(n_sim_fpr))', '_,sim_p = stats.ttest_1samp(new_x_vec,new_y_vec)', 'n_size = 30\\nn_sim_fpr = 100\\nresults_30 = Paralle...ttest)(n_size,seed) for seed in range(n_sim_fpr))'], 'Out': {}, 'Parallel': <class 'joblib.parallel.Parallel'>, '_': '', '__': '', '___': '', '__builtin__': <module 'builtins' (built-in)>, '__builtins__': <module 'builtins' (built-in)>, '__doc__': 'Automatically created module for IPython interactive environment', '__loader__': None, ...}\n   2882             finally:\n   2883                 # Reset our crash handler in place\n   2884                 sys.excepthook = old_excepthook\n   2885         except SystemExit as e:\n\n...........................................................................\n/Users/jinhyuncheong/Dropbox/jcheong0428.github.io/_Notebooks/is_rsa_simulation/<ipython-input-10-04cd3f427d02> in <module>()\n      1 n_size = 30\n      2 n_sim_fpr = 100\n----> 3 results_30 = Parallel(n_jobs=-2)(delayed(calc_fpr_ttest)(n_size,seed) for seed in range(n_sim_fpr))\n\n...........................................................................\n/Users/jinhyuncheong/anaconda2/envs/py36/lib/python3.6/site-packages/joblib/parallel.py in __call__(self=Parallel(n_jobs=-2), iterable=<generator object <genexpr>>)\n    784             if pre_dispatch == \"all\" or n_jobs == 1:\n    785                 # The iterable was consumed all at once by the above for loop.\n    786                 # No need to wait for async callbacks to trigger to\n    787                 # consumption.\n    788                 self._iterating = False\n--> 789             self.retrieve()\n        self.retrieve = <bound method Parallel.retrieve of Parallel(n_jobs=-2)>\n    790             # Make sure that we get a last message telling us we are done\n    791             elapsed_time = time.time() - self._start_time\n    792             self._print('Done %3i out of %3i | elapsed: %s finished',\n    793                         (len(self._output), len(self._output),\n\n---------------------------------------------------------------------------\nSub-process traceback:\n---------------------------------------------------------------------------\nNameError                                          Fri Sep  7 16:41:40 2018\nPID: 44193Python 3.6.1: /Users/jinhyuncheong/anaconda2/envs/py36/bin/python\n...........................................................................\n/Users/jinhyuncheong/anaconda2/envs/py36/lib/python3.6/site-packages/joblib/parallel.py in __call__(self=<joblib.parallel.BatchedCalls object>)\n    126     def __init__(self, iterator_slice):\n    127         self.items = list(iterator_slice)\n    128         self._size = len(self.items)\n    129 \n    130     def __call__(self):\n--> 131         return [func(*args, **kwargs) for func, args, kwargs in self.items]\n        self.items = [(<function calc_fpr_ttest>, (30, 0), {})]\n    132 \n    133     def __len__(self):\n    134         return self._size\n    135 \n\n...........................................................................\n/Users/jinhyuncheong/anaconda2/envs/py36/lib/python3.6/site-packages/joblib/parallel.py in <listcomp>(.0=<list_iterator object>)\n    126     def __init__(self, iterator_slice):\n    127         self.items = list(iterator_slice)\n    128         self._size = len(self.items)\n    129 \n    130     def __call__(self):\n--> 131         return [func(*args, **kwargs) for func, args, kwargs in self.items]\n        func = <function calc_fpr_ttest>\n        args = (30, 0)\n        kwargs = {}\n    132 \n    133     def __len__(self):\n    134         return self._size\n    135 \n\n...........................................................................\n/Users/jinhyuncheong/Dropbox/jcheong0428.github.io/_Notebooks/is_rsa_simulation/<ipython-input-7-408618b68b45> in calc_fpr_ttest(n_size=30, seed=0)\n      1 def calc_fpr_ttest(n_size,seed):\n      2     np.random.seed(seed=seed)\n      3     n_sim = 5000\n      4     sim_rs, sim_ps = np.empty(n_sim),np.empty(n_sim)\n      5     for i in range(n_sim):\n----> 6         new_subs = np.random.choice(range(n),size=n_size,replace=False)\n      7         new_x_vec = parse_triangle(x_mat.iloc[new_subs,new_subs])\n      8         new_y_vec = parse_triangle(y_mat.iloc[new_subs,new_subs])\n      9         _,sim_p = stats.ttest_1samp(new_x_vec-new_y_vec,0)\n     10         sim_ps[i]=sim_p\n\nNameError: name 'n' is not defined\n___________________________________________________________________________",
     "output_type": "error",
     "traceback": [
      "\u001b[0;31m---------------------------------------------------------------------------\u001b[0m",
      "\u001b[0;31mRemoteTraceback\u001b[0m                           Traceback (most recent call last)",
      "\u001b[0;31mRemoteTraceback\u001b[0m: \n\"\"\"\nTraceback (most recent call last):\n  File \"/Users/jinhyuncheong/anaconda2/envs/py36/lib/python3.6/site-packages/joblib/_parallel_backends.py\", line 350, in __call__\n    return self.func(*args, **kwargs)\n  File \"/Users/jinhyuncheong/anaconda2/envs/py36/lib/python3.6/site-packages/joblib/parallel.py\", line 131, in __call__\n    return [func(*args, **kwargs) for func, args, kwargs in self.items]\n  File \"/Users/jinhyuncheong/anaconda2/envs/py36/lib/python3.6/site-packages/joblib/parallel.py\", line 131, in <listcomp>\n    return [func(*args, **kwargs) for func, args, kwargs in self.items]\n  File \"<ipython-input-7-408618b68b45>\", line 6, in calc_fpr_ttest\n    new_subs = np.random.choice(range(n),size=n_size,replace=False)\nNameError: name 'n' is not defined\n\nDuring handling of the above exception, another exception occurred:\n\nTraceback (most recent call last):\n  File \"/Users/jinhyuncheong/anaconda2/envs/py36/lib/python3.6/multiprocessing/pool.py\", line 119, in worker\n    result = (True, func(*args, **kwds))\n  File \"/Users/jinhyuncheong/anaconda2/envs/py36/lib/python3.6/site-packages/joblib/_parallel_backends.py\", line 359, in __call__\n    raise TransportableException(text, e_type)\njoblib.my_exceptions.TransportableException: TransportableException\n___________________________________________________________________________\nNameError                                          Fri Sep  7 16:41:40 2018\nPID: 44193Python 3.6.1: /Users/jinhyuncheong/anaconda2/envs/py36/bin/python\n...........................................................................\n/Users/jinhyuncheong/anaconda2/envs/py36/lib/python3.6/site-packages/joblib/parallel.py in __call__(self=<joblib.parallel.BatchedCalls object>)\n    126     def __init__(self, iterator_slice):\n    127         self.items = list(iterator_slice)\n    128         self._size = len(self.items)\n    129 \n    130     def __call__(self):\n--> 131         return [func(*args, **kwargs) for func, args, kwargs in self.items]\n        self.items = [(<function calc_fpr_ttest>, (30, 0), {})]\n    132 \n    133     def __len__(self):\n    134         return self._size\n    135 \n\n...........................................................................\n/Users/jinhyuncheong/anaconda2/envs/py36/lib/python3.6/site-packages/joblib/parallel.py in <listcomp>(.0=<list_iterator object>)\n    126     def __init__(self, iterator_slice):\n    127         self.items = list(iterator_slice)\n    128         self._size = len(self.items)\n    129 \n    130     def __call__(self):\n--> 131         return [func(*args, **kwargs) for func, args, kwargs in self.items]\n        func = <function calc_fpr_ttest>\n        args = (30, 0)\n        kwargs = {}\n    132 \n    133     def __len__(self):\n    134         return self._size\n    135 \n\n...........................................................................\n/Users/jinhyuncheong/Dropbox/jcheong0428.github.io/_Notebooks/is_rsa_simulation/<ipython-input-7-408618b68b45> in calc_fpr_ttest(n_size=30, seed=0)\n      1 def calc_fpr_ttest(n_size,seed):\n      2     np.random.seed(seed=seed)\n      3     n_sim = 5000\n      4     sim_rs, sim_ps = np.empty(n_sim),np.empty(n_sim)\n      5     for i in range(n_sim):\n----> 6         new_subs = np.random.choice(range(n),size=n_size,replace=False)\n      7         new_x_vec = parse_triangle(x_mat.iloc[new_subs,new_subs])\n      8         new_y_vec = parse_triangle(y_mat.iloc[new_subs,new_subs])\n      9         _,sim_p = stats.ttest_1samp(new_x_vec-new_y_vec,0)\n     10         sim_ps[i]=sim_p\n\nNameError: name 'n' is not defined\n___________________________________________________________________________\n\"\"\"",
      "\nThe above exception was the direct cause of the following exception:\n",
      "\u001b[0;31mTransportableException\u001b[0m                    Traceback (most recent call last)",
      "\u001b[0;32m/Users/jinhyuncheong/anaconda2/envs/py36/lib/python3.6/site-packages/joblib/parallel.py\u001b[0m in \u001b[0;36mretrieve\u001b[0;34m(self)\u001b[0m\n\u001b[1;32m    698\u001b[0m                 \u001b[0;32mif\u001b[0m \u001b[0mgetattr\u001b[0m\u001b[0;34m(\u001b[0m\u001b[0mself\u001b[0m\u001b[0;34m.\u001b[0m\u001b[0m_backend\u001b[0m\u001b[0;34m,\u001b[0m \u001b[0;34m'supports_timeout'\u001b[0m\u001b[0;34m,\u001b[0m \u001b[0;32mFalse\u001b[0m\u001b[0;34m)\u001b[0m\u001b[0;34m:\u001b[0m\u001b[0;34m\u001b[0m\u001b[0m\n\u001b[0;32m--> 699\u001b[0;31m                     \u001b[0mself\u001b[0m\u001b[0;34m.\u001b[0m\u001b[0m_output\u001b[0m\u001b[0;34m.\u001b[0m\u001b[0mextend\u001b[0m\u001b[0;34m(\u001b[0m\u001b[0mjob\u001b[0m\u001b[0;34m.\u001b[0m\u001b[0mget\u001b[0m\u001b[0;34m(\u001b[0m\u001b[0mtimeout\u001b[0m\u001b[0;34m=\u001b[0m\u001b[0mself\u001b[0m\u001b[0;34m.\u001b[0m\u001b[0mtimeout\u001b[0m\u001b[0;34m)\u001b[0m\u001b[0;34m)\u001b[0m\u001b[0;34m\u001b[0m\u001b[0m\n\u001b[0m\u001b[1;32m    700\u001b[0m                 \u001b[0;32melse\u001b[0m\u001b[0;34m:\u001b[0m\u001b[0;34m\u001b[0m\u001b[0m\n",
      "\u001b[0;32m/Users/jinhyuncheong/anaconda2/envs/py36/lib/python3.6/multiprocessing/pool.py\u001b[0m in \u001b[0;36mget\u001b[0;34m(self, timeout)\u001b[0m\n\u001b[1;32m    607\u001b[0m         \u001b[0;32melse\u001b[0m\u001b[0;34m:\u001b[0m\u001b[0;34m\u001b[0m\u001b[0m\n\u001b[0;32m--> 608\u001b[0;31m             \u001b[0;32mraise\u001b[0m \u001b[0mself\u001b[0m\u001b[0;34m.\u001b[0m\u001b[0m_value\u001b[0m\u001b[0;34m\u001b[0m\u001b[0m\n\u001b[0m\u001b[1;32m    609\u001b[0m \u001b[0;34m\u001b[0m\u001b[0m\n",
      "\u001b[0;31mTransportableException\u001b[0m: TransportableException\n___________________________________________________________________________\nNameError                                          Fri Sep  7 16:41:40 2018\nPID: 44193Python 3.6.1: /Users/jinhyuncheong/anaconda2/envs/py36/bin/python\n...........................................................................\n/Users/jinhyuncheong/anaconda2/envs/py36/lib/python3.6/site-packages/joblib/parallel.py in __call__(self=<joblib.parallel.BatchedCalls object>)\n    126     def __init__(self, iterator_slice):\n    127         self.items = list(iterator_slice)\n    128         self._size = len(self.items)\n    129 \n    130     def __call__(self):\n--> 131         return [func(*args, **kwargs) for func, args, kwargs in self.items]\n        self.items = [(<function calc_fpr_ttest>, (30, 0), {})]\n    132 \n    133     def __len__(self):\n    134         return self._size\n    135 \n\n...........................................................................\n/Users/jinhyuncheong/anaconda2/envs/py36/lib/python3.6/site-packages/joblib/parallel.py in <listcomp>(.0=<list_iterator object>)\n    126     def __init__(self, iterator_slice):\n    127         self.items = list(iterator_slice)\n    128         self._size = len(self.items)\n    129 \n    130     def __call__(self):\n--> 131         return [func(*args, **kwargs) for func, args, kwargs in self.items]\n        func = <function calc_fpr_ttest>\n        args = (30, 0)\n        kwargs = {}\n    132 \n    133     def __len__(self):\n    134         return self._size\n    135 \n\n...........................................................................\n/Users/jinhyuncheong/Dropbox/jcheong0428.github.io/_Notebooks/is_rsa_simulation/<ipython-input-7-408618b68b45> in calc_fpr_ttest(n_size=30, seed=0)\n      1 def calc_fpr_ttest(n_size,seed):\n      2     np.random.seed(seed=seed)\n      3     n_sim = 5000\n      4     sim_rs, sim_ps = np.empty(n_sim),np.empty(n_sim)\n      5     for i in range(n_sim):\n----> 6         new_subs = np.random.choice(range(n),size=n_size,replace=False)\n      7         new_x_vec = parse_triangle(x_mat.iloc[new_subs,new_subs])\n      8         new_y_vec = parse_triangle(y_mat.iloc[new_subs,new_subs])\n      9         _,sim_p = stats.ttest_1samp(new_x_vec-new_y_vec,0)\n     10         sim_ps[i]=sim_p\n\nNameError: name 'n' is not defined\n___________________________________________________________________________",
      "\nDuring handling of the above exception, another exception occurred:\n",
      "\u001b[0;31mJoblibNameError\u001b[0m                           Traceback (most recent call last)",
      "\u001b[0;32m<ipython-input-10-04cd3f427d02>\u001b[0m in \u001b[0;36m<module>\u001b[0;34m()\u001b[0m\n\u001b[1;32m      1\u001b[0m \u001b[0mn_size\u001b[0m \u001b[0;34m=\u001b[0m \u001b[0;36m30\u001b[0m\u001b[0;34m\u001b[0m\u001b[0m\n\u001b[1;32m      2\u001b[0m \u001b[0mn_sim_fpr\u001b[0m \u001b[0;34m=\u001b[0m \u001b[0;36m100\u001b[0m\u001b[0;34m\u001b[0m\u001b[0m\n\u001b[0;32m----> 3\u001b[0;31m \u001b[0mresults_30\u001b[0m \u001b[0;34m=\u001b[0m \u001b[0mParallel\u001b[0m\u001b[0;34m(\u001b[0m\u001b[0mn_jobs\u001b[0m\u001b[0;34m=\u001b[0m\u001b[0;34m-\u001b[0m\u001b[0;36m2\u001b[0m\u001b[0;34m)\u001b[0m\u001b[0;34m(\u001b[0m\u001b[0mdelayed\u001b[0m\u001b[0;34m(\u001b[0m\u001b[0mcalc_fpr_ttest\u001b[0m\u001b[0;34m)\u001b[0m\u001b[0;34m(\u001b[0m\u001b[0mn_size\u001b[0m\u001b[0;34m,\u001b[0m\u001b[0mseed\u001b[0m\u001b[0;34m)\u001b[0m \u001b[0;32mfor\u001b[0m \u001b[0mseed\u001b[0m \u001b[0;32min\u001b[0m \u001b[0mrange\u001b[0m\u001b[0;34m(\u001b[0m\u001b[0mn_sim_fpr\u001b[0m\u001b[0;34m)\u001b[0m\u001b[0;34m)\u001b[0m\u001b[0;34m\u001b[0m\u001b[0m\n\u001b[0m",
      "\u001b[0;32m/Users/jinhyuncheong/anaconda2/envs/py36/lib/python3.6/site-packages/joblib/parallel.py\u001b[0m in \u001b[0;36m__call__\u001b[0;34m(self, iterable)\u001b[0m\n\u001b[1;32m    787\u001b[0m                 \u001b[0;31m# consumption.\u001b[0m\u001b[0;34m\u001b[0m\u001b[0;34m\u001b[0m\u001b[0m\n\u001b[1;32m    788\u001b[0m                 \u001b[0mself\u001b[0m\u001b[0;34m.\u001b[0m\u001b[0m_iterating\u001b[0m \u001b[0;34m=\u001b[0m \u001b[0;32mFalse\u001b[0m\u001b[0;34m\u001b[0m\u001b[0m\n\u001b[0;32m--> 789\u001b[0;31m             \u001b[0mself\u001b[0m\u001b[0;34m.\u001b[0m\u001b[0mretrieve\u001b[0m\u001b[0;34m(\u001b[0m\u001b[0;34m)\u001b[0m\u001b[0;34m\u001b[0m\u001b[0m\n\u001b[0m\u001b[1;32m    790\u001b[0m             \u001b[0;31m# Make sure that we get a last message telling us we are done\u001b[0m\u001b[0;34m\u001b[0m\u001b[0;34m\u001b[0m\u001b[0m\n\u001b[1;32m    791\u001b[0m             \u001b[0melapsed_time\u001b[0m \u001b[0;34m=\u001b[0m \u001b[0mtime\u001b[0m\u001b[0;34m.\u001b[0m\u001b[0mtime\u001b[0m\u001b[0;34m(\u001b[0m\u001b[0;34m)\u001b[0m \u001b[0;34m-\u001b[0m \u001b[0mself\u001b[0m\u001b[0;34m.\u001b[0m\u001b[0m_start_time\u001b[0m\u001b[0;34m\u001b[0m\u001b[0m\n",
      "\u001b[0;32m/Users/jinhyuncheong/anaconda2/envs/py36/lib/python3.6/site-packages/joblib/parallel.py\u001b[0m in \u001b[0;36mretrieve\u001b[0;34m(self)\u001b[0m\n\u001b[1;32m    738\u001b[0m                     \u001b[0mexception\u001b[0m \u001b[0;34m=\u001b[0m \u001b[0mexception_type\u001b[0m\u001b[0;34m(\u001b[0m\u001b[0mreport\u001b[0m\u001b[0;34m)\u001b[0m\u001b[0;34m\u001b[0m\u001b[0m\n\u001b[1;32m    739\u001b[0m \u001b[0;34m\u001b[0m\u001b[0m\n\u001b[0;32m--> 740\u001b[0;31m                     \u001b[0;32mraise\u001b[0m \u001b[0mexception\u001b[0m\u001b[0;34m\u001b[0m\u001b[0m\n\u001b[0m\u001b[1;32m    741\u001b[0m \u001b[0;34m\u001b[0m\u001b[0m\n\u001b[1;32m    742\u001b[0m     \u001b[0;32mdef\u001b[0m \u001b[0m__call__\u001b[0m\u001b[0;34m(\u001b[0m\u001b[0mself\u001b[0m\u001b[0;34m,\u001b[0m \u001b[0miterable\u001b[0m\u001b[0;34m)\u001b[0m\u001b[0;34m:\u001b[0m\u001b[0;34m\u001b[0m\u001b[0m\n",
      "\u001b[0;31mJoblibNameError\u001b[0m: JoblibNameError\n___________________________________________________________________________\nMultiprocessing exception:\n...........................................................................\n/Users/jinhyuncheong/anaconda2/envs/py36/lib/python3.6/runpy.py in _run_module_as_main(mod_name='ipykernel.__main__', alter_argv=1)\n    188         sys.exit(msg)\n    189     main_globals = sys.modules[\"__main__\"].__dict__\n    190     if alter_argv:\n    191         sys.argv[0] = mod_spec.origin\n    192     return _run_code(code, main_globals, None,\n--> 193                      \"__main__\", mod_spec)\n        mod_spec = ModuleSpec(name='ipykernel.__main__', loader=<_f...b/python3.6/site-packages/ipykernel/__main__.py')\n    194 \n    195 def run_module(mod_name, init_globals=None,\n    196                run_name=None, alter_sys=False):\n    197     \"\"\"Execute a module's code without importing it\n\n...........................................................................\n/Users/jinhyuncheong/anaconda2/envs/py36/lib/python3.6/runpy.py in _run_code(code=<code object <module> at 0x10cbaf9c0, file \"/Use...3.6/site-packages/ipykernel/__main__.py\", line 1>, run_globals={'__annotations__': {}, '__builtins__': <module 'builtins' (built-in)>, '__cached__': '/Users/jinhyuncheong/anaconda2/envs/py36/lib/pyt...ges/ipykernel/__pycache__/__main__.cpython-36.pyc', '__doc__': None, '__file__': '/Users/jinhyuncheong/anaconda2/envs/py36/lib/python3.6/site-packages/ipykernel/__main__.py', '__loader__': <_frozen_importlib_external.SourceFileLoader object>, '__name__': '__main__', '__package__': 'ipykernel', '__spec__': ModuleSpec(name='ipykernel.__main__', loader=<_f...b/python3.6/site-packages/ipykernel/__main__.py'), 'app': <module 'ipykernel.kernelapp' from '/Users/jinhy.../python3.6/site-packages/ipykernel/kernelapp.py'>}, init_globals=None, mod_name='__main__', mod_spec=ModuleSpec(name='ipykernel.__main__', loader=<_f...b/python3.6/site-packages/ipykernel/__main__.py'), pkg_name='ipykernel', script_name=None)\n     80                        __cached__ = cached,\n     81                        __doc__ = None,\n     82                        __loader__ = loader,\n     83                        __package__ = pkg_name,\n     84                        __spec__ = mod_spec)\n---> 85     exec(code, run_globals)\n        code = <code object <module> at 0x10cbaf9c0, file \"/Use...3.6/site-packages/ipykernel/__main__.py\", line 1>\n        run_globals = {'__annotations__': {}, '__builtins__': <module 'builtins' (built-in)>, '__cached__': '/Users/jinhyuncheong/anaconda2/envs/py36/lib/pyt...ges/ipykernel/__pycache__/__main__.cpython-36.pyc', '__doc__': None, '__file__': '/Users/jinhyuncheong/anaconda2/envs/py36/lib/python3.6/site-packages/ipykernel/__main__.py', '__loader__': <_frozen_importlib_external.SourceFileLoader object>, '__name__': '__main__', '__package__': 'ipykernel', '__spec__': ModuleSpec(name='ipykernel.__main__', loader=<_f...b/python3.6/site-packages/ipykernel/__main__.py'), 'app': <module 'ipykernel.kernelapp' from '/Users/jinhy.../python3.6/site-packages/ipykernel/kernelapp.py'>}\n     86     return run_globals\n     87 \n     88 def _run_module_code(code, init_globals=None,\n     89                     mod_name=None, mod_spec=None,\n\n...........................................................................\n/Users/jinhyuncheong/anaconda2/envs/py36/lib/python3.6/site-packages/ipykernel/__main__.py in <module>()\n      1 if __name__ == '__main__':\n      2     from ipykernel import kernelapp as app\n----> 3     app.launch_new_instance()\n\n...........................................................................\n/Users/jinhyuncheong/anaconda2/envs/py36/lib/python3.6/site-packages/traitlets/config/application.py in launch_instance(cls=<class 'ipykernel.kernelapp.IPKernelApp'>, argv=None, **kwargs={})\n    653 \n    654         If a global instance already exists, this reinitializes and starts it\n    655         \"\"\"\n    656         app = cls.instance(**kwargs)\n    657         app.initialize(argv)\n--> 658         app.start()\n        app.start = <bound method IPKernelApp.start of <ipykernel.kernelapp.IPKernelApp object>>\n    659 \n    660 #-----------------------------------------------------------------------------\n    661 # utility functions, for convenience\n    662 #-----------------------------------------------------------------------------\n\n...........................................................................\n/Users/jinhyuncheong/anaconda2/envs/py36/lib/python3.6/site-packages/ipykernel/kernelapp.py in start(self=<ipykernel.kernelapp.IPKernelApp object>)\n    472             return self.subapp.start()\n    473         if self.poller is not None:\n    474             self.poller.start()\n    475         self.kernel.start()\n    476         try:\n--> 477             ioloop.IOLoop.instance().start()\n    478         except KeyboardInterrupt:\n    479             pass\n    480 \n    481 launch_new_instance = IPKernelApp.launch_instance\n\n...........................................................................\n/Users/jinhyuncheong/anaconda2/envs/py36/lib/python3.6/site-packages/zmq/eventloop/ioloop.py in start(self=<zmq.eventloop.ioloop.ZMQIOLoop object>)\n    172             )\n    173         return loop\n    174     \n    175     def start(self):\n    176         try:\n--> 177             super(ZMQIOLoop, self).start()\n        self.start = <bound method ZMQIOLoop.start of <zmq.eventloop.ioloop.ZMQIOLoop object>>\n    178         except ZMQError as e:\n    179             if e.errno == ETERM:\n    180                 # quietly return on ETERM\n    181                 pass\n\n...........................................................................\n/Users/jinhyuncheong/anaconda2/envs/py36/lib/python3.6/site-packages/tornado/ioloop.py in start(self=<zmq.eventloop.ioloop.ZMQIOLoop object>)\n    883                 self._events.update(event_pairs)\n    884                 while self._events:\n    885                     fd, events = self._events.popitem()\n    886                     try:\n    887                         fd_obj, handler_func = self._handlers[fd]\n--> 888                         handler_func(fd_obj, events)\n        handler_func = <function wrap.<locals>.null_wrapper>\n        fd_obj = <zmq.sugar.socket.Socket object>\n        events = 1\n    889                     except (OSError, IOError) as e:\n    890                         if errno_from_exception(e) == errno.EPIPE:\n    891                             # Happens when the client closes the connection\n    892                             pass\n\n...........................................................................\n/Users/jinhyuncheong/anaconda2/envs/py36/lib/python3.6/site-packages/tornado/stack_context.py in null_wrapper(*args=(<zmq.sugar.socket.Socket object>, 1), **kwargs={})\n    272         # Fast path when there are no active contexts.\n    273         def null_wrapper(*args, **kwargs):\n    274             try:\n    275                 current_state = _state.contexts\n    276                 _state.contexts = cap_contexts[0]\n--> 277                 return fn(*args, **kwargs)\n        args = (<zmq.sugar.socket.Socket object>, 1)\n        kwargs = {}\n    278             finally:\n    279                 _state.contexts = current_state\n    280         null_wrapper._wrapped = True\n    281         return null_wrapper\n\n...........................................................................\n/Users/jinhyuncheong/anaconda2/envs/py36/lib/python3.6/site-packages/zmq/eventloop/zmqstream.py in _handle_events(self=<zmq.eventloop.zmqstream.ZMQStream object>, fd=<zmq.sugar.socket.Socket object>, events=1)\n    435             # dispatch events:\n    436             if events & IOLoop.ERROR:\n    437                 gen_log.error(\"got POLLERR event on ZMQStream, which doesn't make sense\")\n    438                 return\n    439             if events & IOLoop.READ:\n--> 440                 self._handle_recv()\n        self._handle_recv = <bound method ZMQStream._handle_recv of <zmq.eventloop.zmqstream.ZMQStream object>>\n    441                 if not self.socket:\n    442                     return\n    443             if events & IOLoop.WRITE:\n    444                 self._handle_send()\n\n...........................................................................\n/Users/jinhyuncheong/anaconda2/envs/py36/lib/python3.6/site-packages/zmq/eventloop/zmqstream.py in _handle_recv(self=<zmq.eventloop.zmqstream.ZMQStream object>)\n    467                 gen_log.error(\"RECV Error: %s\"%zmq.strerror(e.errno))\n    468         else:\n    469             if self._recv_callback:\n    470                 callback = self._recv_callback\n    471                 # self._recv_callback = None\n--> 472                 self._run_callback(callback, msg)\n        self._run_callback = <bound method ZMQStream._run_callback of <zmq.eventloop.zmqstream.ZMQStream object>>\n        callback = <function wrap.<locals>.null_wrapper>\n        msg = [<zmq.sugar.frame.Frame object>, <zmq.sugar.frame.Frame object>, <zmq.sugar.frame.Frame object>, <zmq.sugar.frame.Frame object>, <zmq.sugar.frame.Frame object>, <zmq.sugar.frame.Frame object>, <zmq.sugar.frame.Frame object>]\n    473                 \n    474         # self.update_state()\n    475         \n    476 \n\n...........................................................................\n/Users/jinhyuncheong/anaconda2/envs/py36/lib/python3.6/site-packages/zmq/eventloop/zmqstream.py in _run_callback(self=<zmq.eventloop.zmqstream.ZMQStream object>, callback=<function wrap.<locals>.null_wrapper>, *args=([<zmq.sugar.frame.Frame object>, <zmq.sugar.frame.Frame object>, <zmq.sugar.frame.Frame object>, <zmq.sugar.frame.Frame object>, <zmq.sugar.frame.Frame object>, <zmq.sugar.frame.Frame object>, <zmq.sugar.frame.Frame object>],), **kwargs={})\n    409         close our socket.\"\"\"\n    410         try:\n    411             # Use a NullContext to ensure that all StackContexts are run\n    412             # inside our blanket exception handler rather than outside.\n    413             with stack_context.NullContext():\n--> 414                 callback(*args, **kwargs)\n        callback = <function wrap.<locals>.null_wrapper>\n        args = ([<zmq.sugar.frame.Frame object>, <zmq.sugar.frame.Frame object>, <zmq.sugar.frame.Frame object>, <zmq.sugar.frame.Frame object>, <zmq.sugar.frame.Frame object>, <zmq.sugar.frame.Frame object>, <zmq.sugar.frame.Frame object>],)\n        kwargs = {}\n    415         except:\n    416             gen_log.error(\"Uncaught exception, closing connection.\",\n    417                           exc_info=True)\n    418             # Close the socket on an uncaught exception from a user callback\n\n...........................................................................\n/Users/jinhyuncheong/anaconda2/envs/py36/lib/python3.6/site-packages/tornado/stack_context.py in null_wrapper(*args=([<zmq.sugar.frame.Frame object>, <zmq.sugar.frame.Frame object>, <zmq.sugar.frame.Frame object>, <zmq.sugar.frame.Frame object>, <zmq.sugar.frame.Frame object>, <zmq.sugar.frame.Frame object>, <zmq.sugar.frame.Frame object>],), **kwargs={})\n    272         # Fast path when there are no active contexts.\n    273         def null_wrapper(*args, **kwargs):\n    274             try:\n    275                 current_state = _state.contexts\n    276                 _state.contexts = cap_contexts[0]\n--> 277                 return fn(*args, **kwargs)\n        args = ([<zmq.sugar.frame.Frame object>, <zmq.sugar.frame.Frame object>, <zmq.sugar.frame.Frame object>, <zmq.sugar.frame.Frame object>, <zmq.sugar.frame.Frame object>, <zmq.sugar.frame.Frame object>, <zmq.sugar.frame.Frame object>],)\n        kwargs = {}\n    278             finally:\n    279                 _state.contexts = current_state\n    280         null_wrapper._wrapped = True\n    281         return null_wrapper\n\n...........................................................................\n/Users/jinhyuncheong/anaconda2/envs/py36/lib/python3.6/site-packages/ipykernel/kernelbase.py in dispatcher(msg=[<zmq.sugar.frame.Frame object>, <zmq.sugar.frame.Frame object>, <zmq.sugar.frame.Frame object>, <zmq.sugar.frame.Frame object>, <zmq.sugar.frame.Frame object>, <zmq.sugar.frame.Frame object>, <zmq.sugar.frame.Frame object>])\n    278         if self.control_stream:\n    279             self.control_stream.on_recv(self.dispatch_control, copy=False)\n    280 \n    281         def make_dispatcher(stream):\n    282             def dispatcher(msg):\n--> 283                 return self.dispatch_shell(stream, msg)\n        msg = [<zmq.sugar.frame.Frame object>, <zmq.sugar.frame.Frame object>, <zmq.sugar.frame.Frame object>, <zmq.sugar.frame.Frame object>, <zmq.sugar.frame.Frame object>, <zmq.sugar.frame.Frame object>, <zmq.sugar.frame.Frame object>]\n    284             return dispatcher\n    285 \n    286         for s in self.shell_streams:\n    287             s.on_recv(make_dispatcher(s), copy=False)\n\n...........................................................................\n/Users/jinhyuncheong/anaconda2/envs/py36/lib/python3.6/site-packages/ipykernel/kernelbase.py in dispatch_shell(self=<ipykernel.ipkernel.IPythonKernel object>, stream=<zmq.eventloop.zmqstream.ZMQStream object>, msg={'buffers': [], 'content': {'allow_stdin': True, 'code': 'n_size = 30\\nn_sim_fpr = 100\\nresults_30 = Paralle...ttest)(n_size,seed) for seed in range(n_sim_fpr))', 'silent': False, 'stop_on_error': True, 'store_history': True, 'user_expressions': {}}, 'header': {'date': datetime.datetime(2018, 9, 7, 16, 41, 40, 921034, tzinfo=tzlocal()), 'msg_id': '1BEFF2D2E1394F9B9BF6BD90CFF43D8C', 'msg_type': 'execute_request', 'session': '48585D22C9FF43E88E186C571A5CD764', 'username': 'username', 'version': '5.2'}, 'metadata': {}, 'msg_id': '1BEFF2D2E1394F9B9BF6BD90CFF43D8C', 'msg_type': 'execute_request', 'parent_header': {}})\n    230             self.log.warn(\"Unknown message type: %r\", msg_type)\n    231         else:\n    232             self.log.debug(\"%s: %s\", msg_type, msg)\n    233             self.pre_handler_hook()\n    234             try:\n--> 235                 handler(stream, idents, msg)\n        handler = <bound method Kernel.execute_request of <ipykernel.ipkernel.IPythonKernel object>>\n        stream = <zmq.eventloop.zmqstream.ZMQStream object>\n        idents = [b'48585D22C9FF43E88E186C571A5CD764']\n        msg = {'buffers': [], 'content': {'allow_stdin': True, 'code': 'n_size = 30\\nn_sim_fpr = 100\\nresults_30 = Paralle...ttest)(n_size,seed) for seed in range(n_sim_fpr))', 'silent': False, 'stop_on_error': True, 'store_history': True, 'user_expressions': {}}, 'header': {'date': datetime.datetime(2018, 9, 7, 16, 41, 40, 921034, tzinfo=tzlocal()), 'msg_id': '1BEFF2D2E1394F9B9BF6BD90CFF43D8C', 'msg_type': 'execute_request', 'session': '48585D22C9FF43E88E186C571A5CD764', 'username': 'username', 'version': '5.2'}, 'metadata': {}, 'msg_id': '1BEFF2D2E1394F9B9BF6BD90CFF43D8C', 'msg_type': 'execute_request', 'parent_header': {}}\n    236             except Exception:\n    237                 self.log.error(\"Exception in message handler:\", exc_info=True)\n    238             finally:\n    239                 self.post_handler_hook()\n\n...........................................................................\n/Users/jinhyuncheong/anaconda2/envs/py36/lib/python3.6/site-packages/ipykernel/kernelbase.py in execute_request(self=<ipykernel.ipkernel.IPythonKernel object>, stream=<zmq.eventloop.zmqstream.ZMQStream object>, ident=[b'48585D22C9FF43E88E186C571A5CD764'], parent={'buffers': [], 'content': {'allow_stdin': True, 'code': 'n_size = 30\\nn_sim_fpr = 100\\nresults_30 = Paralle...ttest)(n_size,seed) for seed in range(n_sim_fpr))', 'silent': False, 'stop_on_error': True, 'store_history': True, 'user_expressions': {}}, 'header': {'date': datetime.datetime(2018, 9, 7, 16, 41, 40, 921034, tzinfo=tzlocal()), 'msg_id': '1BEFF2D2E1394F9B9BF6BD90CFF43D8C', 'msg_type': 'execute_request', 'session': '48585D22C9FF43E88E186C571A5CD764', 'username': 'username', 'version': '5.2'}, 'metadata': {}, 'msg_id': '1BEFF2D2E1394F9B9BF6BD90CFF43D8C', 'msg_type': 'execute_request', 'parent_header': {}})\n    394         if not silent:\n    395             self.execution_count += 1\n    396             self._publish_execute_input(code, parent, self.execution_count)\n    397 \n    398         reply_content = self.do_execute(code, silent, store_history,\n--> 399                                         user_expressions, allow_stdin)\n        user_expressions = {}\n        allow_stdin = True\n    400 \n    401         # Flush output before sending the reply.\n    402         sys.stdout.flush()\n    403         sys.stderr.flush()\n\n...........................................................................\n/Users/jinhyuncheong/anaconda2/envs/py36/lib/python3.6/site-packages/ipykernel/ipkernel.py in do_execute(self=<ipykernel.ipkernel.IPythonKernel object>, code='n_size = 30\\nn_sim_fpr = 100\\nresults_30 = Paralle...ttest)(n_size,seed) for seed in range(n_sim_fpr))', silent=False, store_history=True, user_expressions={}, allow_stdin=True)\n    191 \n    192         self._forward_input(allow_stdin)\n    193 \n    194         reply_content = {}\n    195         try:\n--> 196             res = shell.run_cell(code, store_history=store_history, silent=silent)\n        res = undefined\n        shell.run_cell = <bound method ZMQInteractiveShell.run_cell of <ipykernel.zmqshell.ZMQInteractiveShell object>>\n        code = 'n_size = 30\\nn_sim_fpr = 100\\nresults_30 = Paralle...ttest)(n_size,seed) for seed in range(n_sim_fpr))'\n        store_history = True\n        silent = False\n    197         finally:\n    198             self._restore_input()\n    199 \n    200         if res.error_before_exec is not None:\n\n...........................................................................\n/Users/jinhyuncheong/anaconda2/envs/py36/lib/python3.6/site-packages/ipykernel/zmqshell.py in run_cell(self=<ipykernel.zmqshell.ZMQInteractiveShell object>, *args=('n_size = 30\\nn_sim_fpr = 100\\nresults_30 = Paralle...ttest)(n_size,seed) for seed in range(n_sim_fpr))',), **kwargs={'silent': False, 'store_history': True})\n    528             )\n    529         self.payload_manager.write_payload(payload)\n    530 \n    531     def run_cell(self, *args, **kwargs):\n    532         self._last_traceback = None\n--> 533         return super(ZMQInteractiveShell, self).run_cell(*args, **kwargs)\n        self.run_cell = <bound method ZMQInteractiveShell.run_cell of <ipykernel.zmqshell.ZMQInteractiveShell object>>\n        args = ('n_size = 30\\nn_sim_fpr = 100\\nresults_30 = Paralle...ttest)(n_size,seed) for seed in range(n_sim_fpr))',)\n        kwargs = {'silent': False, 'store_history': True}\n    534 \n    535     def _showtraceback(self, etype, evalue, stb):\n    536         # try to preserve ordering of tracebacks and print statements\n    537         sys.stdout.flush()\n\n...........................................................................\n/Users/jinhyuncheong/anaconda2/envs/py36/lib/python3.6/site-packages/IPython/core/interactiveshell.py in run_cell(self=<ipykernel.zmqshell.ZMQInteractiveShell object>, raw_cell='n_size = 30\\nn_sim_fpr = 100\\nresults_30 = Paralle...ttest)(n_size,seed) for seed in range(n_sim_fpr))', store_history=True, silent=False, shell_futures=True)\n   2712                 self.displayhook.exec_result = result\n   2713 \n   2714                 # Execute the user code\n   2715                 interactivity = \"none\" if silent else self.ast_node_interactivity\n   2716                 has_raised = self.run_ast_nodes(code_ast.body, cell_name,\n-> 2717                    interactivity=interactivity, compiler=compiler, result=result)\n        interactivity = 'last_expr'\n        compiler = <IPython.core.compilerop.CachingCompiler object>\n   2718                 \n   2719                 self.last_execution_succeeded = not has_raised\n   2720 \n   2721                 # Reset this so later displayed values do not modify the\n\n...........................................................................\n/Users/jinhyuncheong/anaconda2/envs/py36/lib/python3.6/site-packages/IPython/core/interactiveshell.py in run_ast_nodes(self=<ipykernel.zmqshell.ZMQInteractiveShell object>, nodelist=[<_ast.Assign object>, <_ast.Assign object>, <_ast.Assign object>], cell_name='<ipython-input-10-04cd3f427d02>', interactivity='none', compiler=<IPython.core.compilerop.CachingCompiler object>, result=<ExecutionResult object at 1136e5470, execution_..._before_exec=None error_in_exec=None result=None>)\n   2816 \n   2817         try:\n   2818             for i, node in enumerate(to_run_exec):\n   2819                 mod = ast.Module([node])\n   2820                 code = compiler(mod, cell_name, \"exec\")\n-> 2821                 if self.run_code(code, result):\n        self.run_code = <bound method InteractiveShell.run_code of <ipykernel.zmqshell.ZMQInteractiveShell object>>\n        code = <code object <module> at 0x1137d7420, file \"<ipython-input-10-04cd3f427d02>\", line 3>\n        result = <ExecutionResult object at 1136e5470, execution_..._before_exec=None error_in_exec=None result=None>\n   2822                     return True\n   2823 \n   2824             for i, node in enumerate(to_run_interactive):\n   2825                 mod = ast.Interactive([node])\n\n...........................................................................\n/Users/jinhyuncheong/anaconda2/envs/py36/lib/python3.6/site-packages/IPython/core/interactiveshell.py in run_code(self=<ipykernel.zmqshell.ZMQInteractiveShell object>, code_obj=<code object <module> at 0x1137d7420, file \"<ipython-input-10-04cd3f427d02>\", line 3>, result=<ExecutionResult object at 1136e5470, execution_..._before_exec=None error_in_exec=None result=None>)\n   2876         outflag = 1  # happens in more places, so it's easier as default\n   2877         try:\n   2878             try:\n   2879                 self.hooks.pre_run_code_hook()\n   2880                 #rprint('Running code', repr(code_obj)) # dbg\n-> 2881                 exec(code_obj, self.user_global_ns, self.user_ns)\n        code_obj = <code object <module> at 0x1137d7420, file \"<ipython-input-10-04cd3f427d02>\", line 3>\n        self.user_global_ns = {'In': ['', 'from scipy.spatial.distance import squareform\\nde...      return X, _corrs\\n    else:\\n        return X', 'def calc_fpr(n_size,seed):\\n    np.random.seed(se...= np.sum(sim_ps < .05)/len(sim_ps)\\n    return fpr', 'def calc_fpr_ttest(n_size,seed):\\n    np.random.s...= np.sum(sim_ps < .05)/len(sim_ps)\\n    return fpr', 'n_size = 30\\nn_sim_fpr = 100\\nresults_30 = Paralle...ttest)(n_size,seed) for seed in range(n_sim_fpr))', 'np.mean(results_30)', \"import numpy as np\\nimport scipy.stats as stats\\ni...('Condition,'+ str(condition) +' not recognized')\", 'def calc_fpr_ttest(n_size,seed):\\n    np.random.s...= np.sum(sim_ps < .05)/len(sim_ps)\\n    return fpr', 'n_size = 30\\nn_sim_fpr = 100\\nresults_30 = Paralle...ttest)(n_size,seed) for seed in range(n_sim_fpr))', '_,sim_p = stats.ttest_1samp(new_x_vec,new_y_vec)', 'n_size = 30\\nn_sim_fpr = 100\\nresults_30 = Paralle...ttest)(n_size,seed) for seed in range(n_sim_fpr))'], 'Out': {}, 'Parallel': <class 'joblib.parallel.Parallel'>, '_': '', '__': '', '___': '', '__builtin__': <module 'builtins' (built-in)>, '__builtins__': <module 'builtins' (built-in)>, '__doc__': 'Automatically created module for IPython interactive environment', '__loader__': None, ...}\n        self.user_ns = {'In': ['', 'from scipy.spatial.distance import squareform\\nde...      return X, _corrs\\n    else:\\n        return X', 'def calc_fpr(n_size,seed):\\n    np.random.seed(se...= np.sum(sim_ps < .05)/len(sim_ps)\\n    return fpr', 'def calc_fpr_ttest(n_size,seed):\\n    np.random.s...= np.sum(sim_ps < .05)/len(sim_ps)\\n    return fpr', 'n_size = 30\\nn_sim_fpr = 100\\nresults_30 = Paralle...ttest)(n_size,seed) for seed in range(n_sim_fpr))', 'np.mean(results_30)', \"import numpy as np\\nimport scipy.stats as stats\\ni...('Condition,'+ str(condition) +' not recognized')\", 'def calc_fpr_ttest(n_size,seed):\\n    np.random.s...= np.sum(sim_ps < .05)/len(sim_ps)\\n    return fpr', 'n_size = 30\\nn_sim_fpr = 100\\nresults_30 = Paralle...ttest)(n_size,seed) for seed in range(n_sim_fpr))', '_,sim_p = stats.ttest_1samp(new_x_vec,new_y_vec)', 'n_size = 30\\nn_sim_fpr = 100\\nresults_30 = Paralle...ttest)(n_size,seed) for seed in range(n_sim_fpr))'], 'Out': {}, 'Parallel': <class 'joblib.parallel.Parallel'>, '_': '', '__': '', '___': '', '__builtin__': <module 'builtins' (built-in)>, '__builtins__': <module 'builtins' (built-in)>, '__doc__': 'Automatically created module for IPython interactive environment', '__loader__': None, ...}\n   2882             finally:\n   2883                 # Reset our crash handler in place\n   2884                 sys.excepthook = old_excepthook\n   2885         except SystemExit as e:\n\n...........................................................................\n/Users/jinhyuncheong/Dropbox/jcheong0428.github.io/_Notebooks/is_rsa_simulation/<ipython-input-10-04cd3f427d02> in <module>()\n      1 n_size = 30\n      2 n_sim_fpr = 100\n----> 3 results_30 = Parallel(n_jobs=-2)(delayed(calc_fpr_ttest)(n_size,seed) for seed in range(n_sim_fpr))\n\n...........................................................................\n/Users/jinhyuncheong/anaconda2/envs/py36/lib/python3.6/site-packages/joblib/parallel.py in __call__(self=Parallel(n_jobs=-2), iterable=<generator object <genexpr>>)\n    784             if pre_dispatch == \"all\" or n_jobs == 1:\n    785                 # The iterable was consumed all at once by the above for loop.\n    786                 # No need to wait for async callbacks to trigger to\n    787                 # consumption.\n    788                 self._iterating = False\n--> 789             self.retrieve()\n        self.retrieve = <bound method Parallel.retrieve of Parallel(n_jobs=-2)>\n    790             # Make sure that we get a last message telling us we are done\n    791             elapsed_time = time.time() - self._start_time\n    792             self._print('Done %3i out of %3i | elapsed: %s finished',\n    793                         (len(self._output), len(self._output),\n\n---------------------------------------------------------------------------\nSub-process traceback:\n---------------------------------------------------------------------------\nNameError                                          Fri Sep  7 16:41:40 2018\nPID: 44193Python 3.6.1: /Users/jinhyuncheong/anaconda2/envs/py36/bin/python\n...........................................................................\n/Users/jinhyuncheong/anaconda2/envs/py36/lib/python3.6/site-packages/joblib/parallel.py in __call__(self=<joblib.parallel.BatchedCalls object>)\n    126     def __init__(self, iterator_slice):\n    127         self.items = list(iterator_slice)\n    128         self._size = len(self.items)\n    129 \n    130     def __call__(self):\n--> 131         return [func(*args, **kwargs) for func, args, kwargs in self.items]\n        self.items = [(<function calc_fpr_ttest>, (30, 0), {})]\n    132 \n    133     def __len__(self):\n    134         return self._size\n    135 \n\n...........................................................................\n/Users/jinhyuncheong/anaconda2/envs/py36/lib/python3.6/site-packages/joblib/parallel.py in <listcomp>(.0=<list_iterator object>)\n    126     def __init__(self, iterator_slice):\n    127         self.items = list(iterator_slice)\n    128         self._size = len(self.items)\n    129 \n    130     def __call__(self):\n--> 131         return [func(*args, **kwargs) for func, args, kwargs in self.items]\n        func = <function calc_fpr_ttest>\n        args = (30, 0)\n        kwargs = {}\n    132 \n    133     def __len__(self):\n    134         return self._size\n    135 \n\n...........................................................................\n/Users/jinhyuncheong/Dropbox/jcheong0428.github.io/_Notebooks/is_rsa_simulation/<ipython-input-7-408618b68b45> in calc_fpr_ttest(n_size=30, seed=0)\n      1 def calc_fpr_ttest(n_size,seed):\n      2     np.random.seed(seed=seed)\n      3     n_sim = 5000\n      4     sim_rs, sim_ps = np.empty(n_sim),np.empty(n_sim)\n      5     for i in range(n_sim):\n----> 6         new_subs = np.random.choice(range(n),size=n_size,replace=False)\n      7         new_x_vec = parse_triangle(x_mat.iloc[new_subs,new_subs])\n      8         new_y_vec = parse_triangle(y_mat.iloc[new_subs,new_subs])\n      9         _,sim_p = stats.ttest_1samp(new_x_vec-new_y_vec,0)\n     10         sim_ps[i]=sim_p\n\nNameError: name 'n' is not defined\n___________________________________________________________________________"
     ]
    }
   ],
   "source": [
    "n_size = 30\n",
    "n_sim_fpr = 100\n",
    "results_30 = Parallel(n_jobs=-2)(delayed(calc_fpr_ttest)(n_size,seed) for seed in range(n_sim_fpr))"
   ]
  },
  {
   "cell_type": "code",
   "execution_count": 5,
   "metadata": {
    "ExecuteTime": {
     "end_time": "2018-09-07T20:41:16.291725",
     "start_time": "2018-09-07T20:41:16.285373Z"
    }
   },
   "outputs": [
    {
     "ename": "NameError",
     "evalue": "name 'np' is not defined",
     "output_type": "error",
     "traceback": [
      "\u001b[0;31m---------------------------------------------------------------------------\u001b[0m",
      "\u001b[0;31mNameError\u001b[0m                                 Traceback (most recent call last)",
      "\u001b[0;32m<ipython-input-5-8560dcb60801>\u001b[0m in \u001b[0;36m<module>\u001b[0;34m()\u001b[0m\n\u001b[0;32m----> 1\u001b[0;31m \u001b[0mnp\u001b[0m\u001b[0;34m.\u001b[0m\u001b[0mmean\u001b[0m\u001b[0;34m(\u001b[0m\u001b[0mresults_30\u001b[0m\u001b[0;34m)\u001b[0m\u001b[0;34m\u001b[0m\u001b[0m\n\u001b[0m",
      "\u001b[0;31mNameError\u001b[0m: name 'np' is not defined"
     ]
    }
   ],
   "source": [
    "np.mean(results_30)"
   ]
  },
  {
   "cell_type": "code",
   "execution_count": 287,
   "metadata": {
    "ExecuteTime": {
     "end_time": "2018-08-22T15:38:32.431292",
     "start_time": "2018-08-22T15:38:32.422735Z"
    }
   },
   "outputs": [],
   "source": [
    "rho = .3\n",
    "p = [[1,rho,rho,rho,rho,rho,rho,0,0,0],\n",
    "     [rho,1,rho,rho,rho,0,0,rho,rho,0],\n",
    "     [rho,rho,1,rho,0,rho,0,rho,0,rho],\n",
    "     [rho,rho,rho,1,0,0,rho,0,rho,rho],\n",
    "     [rho,rho,0,0,1,rho,rho,rho,rho,0],\n",
    "     [rho,0,rho,0,rho,1,rho,rho,0,rho],\n",
    "     [rho,0,0,rho,rho,rho,1,0,rho,rho],\n",
    "     [0,rho,rho,0,rho,rho,0,1,rho,rho],\n",
    "     [0,rho,0,rho,rho,0,rho,rho,1,rho],\n",
    "     [0,0,rho,rho,0,rho,rho,rho,rho,1]]"
   ]
  },
  {
   "cell_type": "code",
   "execution_count": 384,
   "metadata": {
    "ExecuteTime": {
     "end_time": "2018-08-22T15:43:42.717750",
     "start_time": "2018-08-22T15:43:42.710798Z"
    }
   },
   "outputs": [
    {
     "data": {
      "text/plain": [
       "0.2973244265813118"
      ]
     },
     "execution_count": 384,
     "metadata": {},
     "output_type": "execute_result"
    }
   ],
   "source": [
    "g = pd.DataFrame(easy_multivariate_normal(1000,corrs=parse_triangle(np.array(p)),num_features=10,forcePD=True)).corr()\n",
    "np.median(parse_triangle(g))\n"
   ]
  },
  {
   "cell_type": "code",
   "execution_count": null,
   "metadata": {},
   "outputs": [],
   "source": []
  },
  {
   "cell_type": "code",
   "execution_count": 11,
   "metadata": {
    "ExecuteTime": {
     "end_time": "2018-09-07T20:41:48.389337",
     "start_time": "2018-09-07T20:41:48.374943Z"
    },
    "scrolled": true
   },
   "outputs": [
    {
     "ename": "NameError",
     "evalue": "name 'x_mat' is not defined",
     "output_type": "error",
     "traceback": [
      "\u001b[0;31m---------------------------------------------------------------------------\u001b[0m",
      "\u001b[0;31mNameError\u001b[0m                                 Traceback (most recent call last)",
      "\u001b[0;32m<ipython-input-11-0bbd6e89118d>\u001b[0m in \u001b[0;36m<module>\u001b[0;34m()\u001b[0m\n\u001b[1;32m      7\u001b[0m     \u001b[0;32mfor\u001b[0m \u001b[0mi\u001b[0m \u001b[0;32min\u001b[0m \u001b[0mrange\u001b[0m\u001b[0;34m(\u001b[0m\u001b[0;36m5000\u001b[0m\u001b[0;34m)\u001b[0m\u001b[0;34m:\u001b[0m\u001b[0;34m\u001b[0m\u001b[0m\n\u001b[1;32m      8\u001b[0m         \u001b[0mnew_subs\u001b[0m \u001b[0;34m=\u001b[0m \u001b[0mnp\u001b[0m\u001b[0;34m.\u001b[0m\u001b[0mrandom\u001b[0m\u001b[0;34m.\u001b[0m\u001b[0mchoice\u001b[0m\u001b[0;34m(\u001b[0m\u001b[0mrange\u001b[0m\u001b[0;34m(\u001b[0m\u001b[0;36m1000\u001b[0m\u001b[0;34m)\u001b[0m\u001b[0;34m,\u001b[0m\u001b[0msize\u001b[0m\u001b[0;34m=\u001b[0m\u001b[0;36m10\u001b[0m\u001b[0;34m,\u001b[0m\u001b[0mreplace\u001b[0m\u001b[0;34m=\u001b[0m\u001b[0;32mFalse\u001b[0m\u001b[0;34m)\u001b[0m\u001b[0;34m\u001b[0m\u001b[0m\n\u001b[0;32m----> 9\u001b[0;31m         \u001b[0mnew_x_vec\u001b[0m \u001b[0;34m=\u001b[0m \u001b[0mparse_triangle\u001b[0m\u001b[0;34m(\u001b[0m\u001b[0mx_mat\u001b[0m\u001b[0;34m.\u001b[0m\u001b[0miloc\u001b[0m\u001b[0;34m[\u001b[0m\u001b[0mnew_subs\u001b[0m\u001b[0;34m,\u001b[0m\u001b[0mnew_subs\u001b[0m\u001b[0;34m]\u001b[0m\u001b[0;34m)\u001b[0m\u001b[0;34m\u001b[0m\u001b[0m\n\u001b[0m\u001b[1;32m     10\u001b[0m         \u001b[0mnew_y_vec\u001b[0m \u001b[0;34m=\u001b[0m \u001b[0mparse_triangle\u001b[0m\u001b[0;34m(\u001b[0m\u001b[0my_mat\u001b[0m\u001b[0;34m.\u001b[0m\u001b[0miloc\u001b[0m\u001b[0;34m[\u001b[0m\u001b[0mnew_subs\u001b[0m\u001b[0;34m,\u001b[0m\u001b[0mnew_subs\u001b[0m\u001b[0;34m]\u001b[0m\u001b[0;34m)\u001b[0m\u001b[0;34m\u001b[0m\u001b[0m\n\u001b[1;32m     11\u001b[0m         \u001b[0msim_r\u001b[0m\u001b[0;34m,\u001b[0m \u001b[0msim_p\u001b[0m \u001b[0;34m=\u001b[0m \u001b[0mstats\u001b[0m\u001b[0;34m.\u001b[0m\u001b[0mspearmanr\u001b[0m\u001b[0;34m(\u001b[0m\u001b[0mnew_x_vec\u001b[0m\u001b[0;34m,\u001b[0m\u001b[0mnew_y_vec\u001b[0m\u001b[0;34m)\u001b[0m\u001b[0;34m\u001b[0m\u001b[0m\n",
      "\u001b[0;31mNameError\u001b[0m: name 'x_mat' is not defined"
     ]
    }
   ],
   "source": [
    "n_size = 10\n",
    "n_sim_fpr = 100\n",
    "fprs = np.empty(n_sim_fpr)\n",
    "for fpr_i in range(n_sim_fpr):\n",
    "    n_sim = 5000\n",
    "    sim_rs, sim_ps = np.empty(n_sim),np.empty(n_sim)\n",
    "    for i in range(5000):\n",
    "        new_subs = np.random.choice(range(1000),size=10,replace=False)\n",
    "        new_x_vec = parse_triangle(x_mat.iloc[new_subs,new_subs])\n",
    "        new_y_vec = parse_triangle(y_mat.iloc[new_subs,new_subs])\n",
    "        sim_r, sim_p = stats.spearmanr(new_x_vec,new_y_vec)\n",
    "        sim_rs[i]=sim_r\n",
    "        sim_ps[i]=sim_p\n",
    "    fpr = np.sum(sim_ps < .05)/len(sim_ps)\n",
    "    fprs[fpr_i]=fpr\n",
    "    break;"
   ]
  },
  {
   "cell_type": "code",
   "execution_count": 269,
   "metadata": {
    "ExecuteTime": {
     "end_time": "2018-08-22T14:56:26.268391",
     "start_time": "2018-08-22T14:56:26.263777Z"
    }
   },
   "outputs": [
    {
     "data": {
      "text/plain": [
       "array([4, 1])"
      ]
     },
     "execution_count": 269,
     "metadata": {},
     "output_type": "execute_result"
    }
   ],
   "source": [
    "np.random.seed(seed=2)\n",
    "np.random.choice(range(10),2,replace=False)"
   ]
  },
  {
   "cell_type": "code",
   "execution_count": null,
   "metadata": {},
   "outputs": [],
   "source": []
  },
  {
   "cell_type": "code",
   "execution_count": null,
   "metadata": {},
   "outputs": [],
   "source": [
    "# Fonew_x_vecr 5000 datasets, generate two correlation matrix with 0 correlation \n",
    "\n",
    "# For each dataset, test how many say that the correlation is significant. \n"
   ]
  },
  {
   "cell_type": "markdown",
   "metadata": {},
   "source": [
    "jackknife\n"
   ]
  },
  {
   "cell_type": "code",
   "execution_count": 34,
   "metadata": {
    "ExecuteTime": {
     "end_time": "2018-08-22T20:15:15.870939",
     "start_time": "2018-08-22T20:15:15.868385Z"
    }
   },
   "outputs": [],
   "source": []
  },
  {
   "cell_type": "code",
   "execution_count": 49,
   "metadata": {
    "ExecuteTime": {
     "end_time": "2018-08-22T20:18:54.566084",
     "start_time": "2018-08-22T20:18:54.559381Z"
    }
   },
   "outputs": [
    {
     "data": {
      "text/plain": [
       "False"
      ]
     },
     "execution_count": 49,
     "metadata": {},
     "output_type": "execute_result"
    }
   ],
   "source": [
    "data1 = np.random.rand(100,10)\n",
    "data2 = np.random.rand(100,10)\n",
    "isPSD(squareform(pdist(data1,metric='euclidean')))"
   ]
  },
  {
   "cell_type": "code",
   "execution_count": 50,
   "metadata": {
    "ExecuteTime": {
     "end_time": "2018-08-22T20:18:56.184775",
     "start_time": "2018-08-22T20:18:56.180160Z"
    }
   },
   "outputs": [
    {
     "data": {
      "text/plain": [
       "True"
      ]
     },
     "execution_count": 50,
     "metadata": {},
     "output_type": "execute_result"
    }
   ],
   "source": [
    "isPSD(pd.DataFrame(data1).corr())"
   ]
  },
  {
   "cell_type": "code",
   "execution_count": 26,
   "metadata": {
    "ExecuteTime": {
     "end_time": "2018-08-22T20:05:25.011891",
     "start_time": "2018-08-22T20:05:24.999519Z"
    },
    "scrolled": true
   },
   "outputs": [],
   "source": [
    "data1 = pd.DataFrame(np.random.rand(100,10)).corr().as_matrix()\n",
    "data2 = pd.DataFrame(np.random.rand(100,10)).corr().as_matrix()\n",
    "stat = {}\n",
    "stat['all_r']=[]\n",
    "for s in range(data1.shape[0]):\n",
    "    func = stats.spearmanr\n",
    "    stat['all_r'].append(func(np.delete(data1[s,],s), np.delete(data2[s,], s))[0])"
   ]
  },
  {
   "cell_type": "code",
   "execution_count": null,
   "metadata": {},
   "outputs": [],
   "source": []
  },
  {
   "cell_type": "code",
   "execution_count": 16,
   "metadata": {
    "ExecuteTime": {
     "end_time": "2018-09-07T20:50:36.817738",
     "start_time": "2018-09-07T20:43:31.233549Z"
    }
   },
   "outputs": [],
   "source": [
    "from scipy.spatial.distance import pdist\n",
    "from nltools.stats import _calc_pvalue\n",
    "ps_mantel,ps_jackknife,ps_regular = [],[],[]\n",
    "for i in range(500):\n",
    "    data1 = pdist(pd.DataFrame(np.random.rand(100,20)))\n",
    "    data2 = pdist(pd.DataFrame(np.random.rand(100,20)))\n",
    "    out = test(data1,data2,perms=5000,method='spearman',tail='two-tail')\n",
    "#     print('Mantel',test(data1,data2,perms=5000,method='spearman',tail='two-tail'))\n",
    "    ps_mantel.append(out[1])\n",
    "#     regular naive p value\n",
    "    ps_regular.append(stats.spearmanr(data1,data2)[1])\n",
    "    data1 = squareform(data1)\n",
    "    data2 = squareform(data2)\n",
    "    stat = {}\n",
    "    stat['all_r']=[]\n",
    "    for s in range(data1.shape[0]):\n",
    "        func = stats.spearmanr\n",
    "        stat['all_r'].append(func(np.delete(data1[s,],s), np.delete(data2[s,], s))[0])\n",
    "    stat['correlation'] = np.mean(stat['all_r'])\n",
    "    all_p = Parallel(n_jobs=-2)(delayed(np.mean)(\n",
    "    stat['all_r']*np.random.choice([1,-1],len(stat['all_r']))) for i in range(5000))\n",
    "    stat['p'] = _calc_pvalue(all_p, stat['correlation'], 2)\n",
    "#     print(stat['correlation'],stat['p'])\n",
    "    ps_jackknife.append(stat['p'])"
   ]
  },
  {
   "cell_type": "code",
   "execution_count": 17,
   "metadata": {
    "ExecuteTime": {
     "end_time": "2018-09-07T20:50:40.002966",
     "start_time": "2018-09-07T20:50:39.996537Z"
    }
   },
   "outputs": [
    {
     "name": "stdout",
     "output_type": "stream",
     "text": [
      "FPR naive: 0.324\n",
      "FPR mantel: 0.03\n",
      "FPR jackknife: 0.284\n"
     ]
    }
   ],
   "source": [
    "print('FPR naive:',np.sum(np.array(ps_regular)<.05)/len(ps_regular))\n",
    "print('FPR mantel:',np.sum(np.array(ps_mantel)<.05)/len(ps_mantel))\n",
    "print('FPR jackknife:',np.sum(np.array(ps_jackknife)<.05)/len(ps_jackknife))"
   ]
  },
  {
   "cell_type": "code",
   "execution_count": 98,
   "metadata": {
    "ExecuteTime": {
     "end_time": "2018-08-22T21:09:10.427133",
     "start_time": "2018-08-22T21:09:10.421484Z"
    }
   },
   "outputs": [],
   "source": [
    "np.random.multivariate_normal?"
   ]
  },
  {
   "cell_type": "code",
   "execution_count": 100,
   "metadata": {
    "ExecuteTime": {
     "end_time": "2018-08-22T21:10:05.517512",
     "start_time": "2018-08-22T21:10:05.510846Z"
    }
   },
   "outputs": [
    {
     "name": "stderr",
     "output_type": "stream",
     "text": [
      "/Users/jinhyuncheong/anaconda2/envs/py36/lib/python3.6/site-packages/ipykernel/__main__.py:7: RuntimeWarning: covariance is not positive-semidefinite.\n"
     ]
    }
   ],
   "source": [
    "dat = np.random.multivariate_normal([5, 10, 15, 25, 35, 45],\n",
    "\t                                    [[1, .2, .5, .7, .8, .9],\n",
    "\t                                     [.2, 1, .4, .1, .1, .1],\n",
    "\t                                     [.5, .4, 1, .1, .1, .1],\n",
    "\t                                     [.7, .1, .1, 1, .3, .6],\n",
    "\t                                     [.8, .1, .1, .3, 1, .5],\n",
    "\t                                     [.9, .1, .1, .6, .5, 1]], 200)\n",
    "dat = dat + np.random.randn(dat.shape[0],dat.shape[1])*.5"
   ]
  },
  {
   "cell_type": "code",
   "execution_count": 104,
   "metadata": {
    "ExecuteTime": {
     "end_time": "2018-08-22T21:11:21.479676",
     "start_time": "2018-08-22T21:11:21.468400Z"
    }
   },
   "outputs": [
    {
     "data": {
      "text/html": [
       "<div>\n",
       "<style scoped>\n",
       "    .dataframe tbody tr th:only-of-type {\n",
       "        vertical-align: middle;\n",
       "    }\n",
       "\n",
       "    .dataframe tbody tr th {\n",
       "        vertical-align: top;\n",
       "    }\n",
       "\n",
       "    .dataframe thead th {\n",
       "        text-align: right;\n",
       "    }\n",
       "</style>\n",
       "<table border=\"1\" class=\"dataframe\">\n",
       "  <thead>\n",
       "    <tr style=\"text-align: right;\">\n",
       "      <th></th>\n",
       "      <th>0</th>\n",
       "      <th>1</th>\n",
       "      <th>2</th>\n",
       "      <th>3</th>\n",
       "      <th>4</th>\n",
       "      <th>5</th>\n",
       "    </tr>\n",
       "  </thead>\n",
       "  <tbody>\n",
       "    <tr>\n",
       "      <th>0</th>\n",
       "      <td>1.524986</td>\n",
       "      <td>0.319274</td>\n",
       "      <td>0.499928</td>\n",
       "      <td>0.746235</td>\n",
       "      <td>0.932289</td>\n",
       "      <td>0.932915</td>\n",
       "    </tr>\n",
       "    <tr>\n",
       "      <th>1</th>\n",
       "      <td>0.319274</td>\n",
       "      <td>1.607496</td>\n",
       "      <td>0.374572</td>\n",
       "      <td>0.163862</td>\n",
       "      <td>0.377669</td>\n",
       "      <td>0.271171</td>\n",
       "    </tr>\n",
       "    <tr>\n",
       "      <th>2</th>\n",
       "      <td>0.499928</td>\n",
       "      <td>0.374572</td>\n",
       "      <td>1.281833</td>\n",
       "      <td>0.078201</td>\n",
       "      <td>0.215726</td>\n",
       "      <td>0.265442</td>\n",
       "    </tr>\n",
       "    <tr>\n",
       "      <th>3</th>\n",
       "      <td>0.746235</td>\n",
       "      <td>0.163862</td>\n",
       "      <td>0.078201</td>\n",
       "      <td>1.234554</td>\n",
       "      <td>0.454493</td>\n",
       "      <td>0.612230</td>\n",
       "    </tr>\n",
       "    <tr>\n",
       "      <th>4</th>\n",
       "      <td>0.932289</td>\n",
       "      <td>0.377669</td>\n",
       "      <td>0.215726</td>\n",
       "      <td>0.454493</td>\n",
       "      <td>1.323769</td>\n",
       "      <td>0.598898</td>\n",
       "    </tr>\n",
       "    <tr>\n",
       "      <th>5</th>\n",
       "      <td>0.932915</td>\n",
       "      <td>0.271171</td>\n",
       "      <td>0.265442</td>\n",
       "      <td>0.612230</td>\n",
       "      <td>0.598898</td>\n",
       "      <td>1.225627</td>\n",
       "    </tr>\n",
       "  </tbody>\n",
       "</table>\n",
       "</div>"
      ],
      "text/plain": [
       "          0         1         2         3         4         5\n",
       "0  1.524986  0.319274  0.499928  0.746235  0.932289  0.932915\n",
       "1  0.319274  1.607496  0.374572  0.163862  0.377669  0.271171\n",
       "2  0.499928  0.374572  1.281833  0.078201  0.215726  0.265442\n",
       "3  0.746235  0.163862  0.078201  1.234554  0.454493  0.612230\n",
       "4  0.932289  0.377669  0.215726  0.454493  1.323769  0.598898\n",
       "5  0.932915  0.271171  0.265442  0.612230  0.598898  1.225627"
      ]
     },
     "execution_count": 104,
     "metadata": {},
     "output_type": "execute_result"
    }
   ],
   "source": [
    "pd.DataFrame(dat).cov()"
   ]
  },
  {
   "cell_type": "code",
   "execution_count": 90,
   "metadata": {
    "ExecuteTime": {
     "end_time": "2018-08-22T21:00:26.236404",
     "start_time": "2018-08-22T21:00:26.084830Z"
    }
   },
   "outputs": [
    {
     "data": {
      "text/plain": [
       "(array([209.,  58.,  54.,  31.,  23.,  37.,  24.,  24.,  23.,  17.]),\n",
       " array([0.     , 0.09924, 0.19848, 0.29772, 0.39696, 0.4962 , 0.59544,\n",
       "        0.69468, 0.79392, 0.89316, 0.9924 ]),\n",
       " <a list of 10 Patch objects>)"
      ]
     },
     "execution_count": 90,
     "metadata": {},
     "output_type": "execute_result"
    },
    {
     "data": {
      "image/png": "[encoded data removed]",
      "text/plain": [
       "<matplotlib.figure.Figure at 0x10f2ebba8>"
      ]
     },
     "metadata": {},
     "output_type": "display_data"
    }
   ],
   "source": [
    "plt.hist(ps_mantel)\n",
    "plt.hist(ps_jackknife)"
   ]
  },
  {
   "cell_type": "code",
   "execution_count": 14,
   "metadata": {
    "ExecuteTime": {
     "end_time": "2018-09-07T20:42:30.347749",
     "start_time": "2018-09-07T20:42:30.213966Z"
    }
   },
   "outputs": [],
   "source": [
    "import numpy as np\n",
    "from itertools import permutations\n",
    "from scipy import spatial, stats\n",
    "\n",
    "def test(X, Y, perms=10000, method='pearson', tail='two-tail'):\n",
    "  \"\"\"\n",
    "  Takes two distance matrices (either redundant matrices or condensed vectors)\n",
    "  and performs a Mantel test. The Mantel test is a significance test of the\n",
    "  correlation between two distance matrices.\n",
    "  Parameters\n",
    "  ----------\n",
    "  X : array_like\n",
    "      First distance matrix (condensed or redundant).\n",
    "  Y : array_like\n",
    "      Second distance matrix (condensed or redundant), where the order of\n",
    "      elements corresponds to the order of elements in the first matrix.\n",
    "  perms : int, optional\n",
    "      The number of permutations to perform (default: 10000). A larger number\n",
    "      gives more reliable results but takes longer to run. If the actual number\n",
    "      of possible permutations is smaller, the program will enumerate all\n",
    "      permutations. Enumeration can be forced by setting this argument to 0.\n",
    "  method : str, optional\n",
    "      Type of correlation coefficient to use; either 'pearson' or 'spearman'\n",
    "      (default: 'pearson').\n",
    "  tail : str, optional\n",
    "      Which tail to test in the calculation of the empirical p-value; either\n",
    "      'upper', 'lower', or 'two-tail' (default: 'two-tail').\n",
    "  Returns\n",
    "  -------\n",
    "  r : float\n",
    "      Veridical correlation\n",
    "  p : float\n",
    "      Empirical p-value\n",
    "  z : float\n",
    "      Standard score (z-score)\n",
    "  \"\"\"\n",
    "\n",
    "  # Ensure that X and Y are formatted as Numpy arrays.\n",
    "  X, Y = np.asarray(X, dtype=float), np.asarray(Y, dtype=float)\n",
    "\n",
    "  # Check that X and Y are valid distance matrices.\n",
    "  if spatial.distance.is_valid_dm(X) == False and spatial.distance.is_valid_y(X) == False:\n",
    "    raise ValueError('X is not a valid condensed or redundant distance matrix')\n",
    "  if spatial.distance.is_valid_dm(Y) == False and spatial.distance.is_valid_y(Y) == False:\n",
    "    raise ValueError('Y is not a valid condensed or redundant distance matrix')\n",
    "\n",
    "  # If X or Y is a redundant distance matrix, reduce it to a condensed distance matrix.\n",
    "  if len(X.shape) == 2:\n",
    "    X = spatial.distance.squareform(X, force='tovector', checks=False)\n",
    "  if len(Y.shape) == 2:\n",
    "    Y = spatial.distance.squareform(Y, force='tovector', checks=False)\n",
    "\n",
    "  # Check for size equality.\n",
    "  if X.shape[0] != Y.shape[0]:\n",
    "    raise ValueError('X and Y are not of equal size')\n",
    "\n",
    "  # Check for minimum size.\n",
    "  if X.shape[0] < 3:\n",
    "    raise ValueError('X and Y should represent at least 3 objects')\n",
    "\n",
    "  # If Spearman correlation is requested, convert X and Y to ranks.\n",
    "  if method == 'spearman':\n",
    "    X, Y = stats.rankdata(X), stats.rankdata(Y)\n",
    "\n",
    "  # Check for valid method parameter.\n",
    "  elif method != 'pearson':\n",
    "    raise ValueError('The method should be set to \"pearson\" or \"spearman\"')\n",
    "\n",
    "  # Check for valid tail parameter.\n",
    "  if tail != 'upper' and tail != 'lower' and tail != 'two-tail':\n",
    "    raise ValueError('The tail should be set to \"upper\", \"lower\", or \"two-tail\"')\n",
    "\n",
    "  # Now we're ready to start the Mantel test using a number of optimizations:\n",
    "  #\n",
    "  # 1. We don't need to recalculate the pairwise distances between the objects\n",
    "  #    on every permutation. They've already been calculated, so we can use a\n",
    "  #    simple matrix shuffling technique to avoid recomputing them. This works\n",
    "  #    like memoization.\n",
    "  #\n",
    "  # 2. Rather than compute correlation coefficients, we'll just compute the\n",
    "  #    covariances. This works because the denominator in the equation for the\n",
    "  #    correlation coefficient will yield the same result however the objects\n",
    "  #    are permuted, making it redundant. Removing the denominator leaves us\n",
    "  #    with the covariance.\n",
    "  #\n",
    "  # 3. Rather than permute the Y distances and derive the residuals to calculate\n",
    "  #    the covariance with the X distances, we'll represent the Y residuals in\n",
    "  #    the matrix and shuffle those directly.\n",
    "  #\n",
    "  # 4. If the number of possible permutations is less than the number of\n",
    "  #    permutations that were requested, we'll run a deterministic test where\n",
    "  #    we try all possible permutations rather than sample the permutation\n",
    "  #    space. This gives a faster, deterministic result.\n",
    "\n",
    "  # Calculate the X and Y residuals, which will be used to compute the\n",
    "  # covariance under each permutation.\n",
    "  X_residuals, Y_residuals = X - X.mean(), Y - Y.mean()\n",
    "\n",
    "  # Expand the Y residuals to a redundant matrix.\n",
    "  Y_residuals_as_matrix = spatial.distance.squareform(Y_residuals, force='tomatrix', checks=False)\n",
    "\n",
    "  # Get the number of objects.\n",
    "  m = Y_residuals_as_matrix.shape[0]\n",
    "\n",
    "  # Calculate the number of possible matrix permutations.\n",
    "  n = np.math.factorial(m)\n",
    "\n",
    "  # Initialize an empty array to store temporary permutations of Y_residuals.\n",
    "  Y_residuals_permuted = np.zeros(Y_residuals.shape[0], dtype=float)\n",
    "\n",
    "  # If the number of requested permutations is greater than the number of\n",
    "  # possible permutations (m!) or the perms parameter is set to 0, then run a\n",
    "  # deterministic Mantel test ...\n",
    "  if perms >= n or perms == 0:\n",
    "\n",
    "    # Initialize an empty array to store the covariances.\n",
    "    covariances = np.zeros(n, dtype=float)\n",
    "\n",
    "    # Enumerate all permutations of row/column orders and iterate over them.\n",
    "    for i, order in enumerate(permutations(range(m))):\n",
    "\n",
    "      # Take a permutation of the matrix.\n",
    "      Y_residuals_as_matrix_permuted = Y_residuals_as_matrix[order, :][:, order]\n",
    "\n",
    "      # Condense the permuted version of the matrix. Rather than use\n",
    "      # distance.squareform(), we call directly into the C wrapper for speed.\n",
    "      spatial.distance._distance_wrap.to_vector_from_squareform_wrap(Y_residuals_as_matrix_permuted, Y_residuals_permuted)\n",
    "\n",
    "      # Compute and store the covariance.\n",
    "      covariances[i] = (X_residuals * Y_residuals_permuted).sum()\n",
    "\n",
    "  # ... otherwise run a stochastic Mantel test.\n",
    "  else:\n",
    "\n",
    "    # Initialize an empty array to store the covariances.\n",
    "    covariances = np.zeros(perms, dtype=float)\n",
    "\n",
    "    # Initialize an array to store the permutation order.\n",
    "    order = np.arange(m)\n",
    "\n",
    "    # Store the veridical covariance in 0th position...\n",
    "    covariances[0] = (X_residuals * Y_residuals).sum()\n",
    "\n",
    "    # ...and then run the random permutations.\n",
    "    for i in range(1, perms):\n",
    "\n",
    "      # Choose a random order in which to permute the rows and columns.\n",
    "      np.random.shuffle(order)\n",
    "\n",
    "      # Take a permutation of the matrix.\n",
    "      Y_residuals_as_matrix_permuted = Y_residuals_as_matrix[order, :][:, order]\n",
    "\n",
    "      # Condense the permuted version of the matrix. Rather than use\n",
    "      # distance.squareform(), we call directly into the C wrapper for speed.\n",
    "      spatial.distance._distance_wrap.to_vector_from_squareform_wrap(Y_residuals_as_matrix_permuted, Y_residuals_permuted)\n",
    "\n",
    "      # Compute and store the covariance.\n",
    "      covariances[i] = (X_residuals * Y_residuals_permuted).sum()\n",
    "\n",
    "  # Calculate the veridical correlation coefficient from the veridical covariance.\n",
    "  r = covariances[0] / np.sqrt((X_residuals ** 2).sum() * (Y_residuals ** 2).sum())\n",
    "\n",
    "  # Calculate the empirical p-value for the upper or lower tail.\n",
    "  if tail == 'upper':\n",
    "    p = (covariances >= covariances[0]).sum() / float(covariances.shape[0])\n",
    "  elif tail == 'lower':\n",
    "    p = (covariances <= covariances[0]).sum() / float(covariances.shape[0])\n",
    "  elif tail == 'two-tail':\n",
    "    p = (abs(covariances) >= abs(covariances[0])).sum() / float(covariances.shape[0])\n",
    "\n",
    "  # Calculate the standard score.\n",
    "  z = (covariances[0] - covariances.mean()) / covariances.std()\n",
    "\n",
    "  return r, p, z"
   ]
  },
  {
   "cell_type": "code",
   "execution_count": null,
   "metadata": {},
   "outputs": [],
   "source": []
  }
 ],
 "metadata": {
  "anaconda-cloud": {},
  "hide_input": false,
  "kernelspec": {
   "display_name": "Python 3",
   "language": "python",
   "name": "python3"
  },
  "language_info": {
   "codemirror_mode": {
    "name": "ipython",
    "version": 3
   },
   "file_extension": ".py",
   "mimetype": "text/x-python",
   "name": "python",
   "nbconvert_exporter": "python",
   "pygments_lexer": "ipython3",
   "version": "3.6.3"
  },
  "toc": {
   "nav_menu": {
    "height": "48px",
    "width": "252px"
   },
   "number_sections": true,
   "sideBar": true,
   "skip_h1_title": false,
   "toc_cell": false,
   "toc_position": {},
   "toc_section_display": "block",
   "toc_window_display": false
  },
  "varInspector": {
   "cols": {
    "lenName": 16,
    "lenType": 16,
    "lenVar": 40
   },
   "kernels_config": {
    "python": {
     "delete_cmd_postfix": "",
     "delete_cmd_prefix": "del ",
     "library": "var_list.py",
     "varRefreshCmd": "print(var_dic_list())"
    },
    "r": {
     "delete_cmd_postfix": ") ",
     "delete_cmd_prefix": "rm(",
     "library": "var_list.r",
     "varRefreshCmd": "cat(var_dic_list()) "
    }
   },
   "types_to_exclude": [
    "module",
    "function",
    "builtin_function_or_method",
    "instance",
    "_Feature"
   ],
   "window_display": false
  }
 },
 "nbformat": 4,
 "nbformat_minor": 2
}
